{
 "cells": [
  {
   "cell_type": "code",
   "execution_count": 15,
   "metadata": {},
   "outputs": [],
   "source": [
    "%load_ext autoreload\n",
    "%autoreload 2"
   ]
  },
  {
   "cell_type": "code",
   "execution_count": 16,
   "metadata": {},
   "outputs": [],
   "source": [
    "from mofdscribe.chemistry._fragment import get_node_atoms, get_floating_indices, get_bbs_from_indices, fragment\n",
    "from mofdscribe.utils.structure_graph import get_structure_graph\n",
    "\n",
    "from pymatgen.core import IStructure"
   ]
  },
  {
   "cell_type": "code",
   "execution_count": 17,
   "metadata": {},
   "outputs": [],
   "source": [
    "s = IStructure.from_file('/Users/kevinmaikjablonka/git/kjappelbaum/mofdscribe/tests/test_files/HKUST-1.cif')"
   ]
  },
  {
   "cell_type": "code",
   "execution_count": 32,
   "metadata": {},
   "outputs": [
    {
     "data": {
      "text/plain": [
       "Comp: Cu48 H96 C288 O192"
      ]
     },
     "execution_count": 32,
     "metadata": {},
     "output_type": "execute_result"
    }
   ],
   "source": [
    "s.composition"
   ]
  },
  {
   "cell_type": "code",
   "execution_count": 18,
   "metadata": {},
   "outputs": [],
   "source": [
    "sg = get_structure_graph(s, 'jmolnn')"
   ]
  },
  {
   "cell_type": "code",
   "execution_count": 28,
   "metadata": {},
   "outputs": [],
   "source": [
    "linker_fragments, node_fragments = fragment(sg)"
   ]
  },
  {
   "cell_type": "code",
   "execution_count": 31,
   "metadata": {},
   "outputs": [
    {
     "data": {
      "text/plain": [
       "36"
      ]
     },
     "execution_count": 31,
     "metadata": {},
     "output_type": "execute_result"
    }
   ],
   "source": [
    "len(node_fragments[1])"
   ]
  },
  {
   "cell_type": "code",
   "execution_count": 36,
   "metadata": {},
   "outputs": [],
   "source": [
    "import networkx as nx"
   ]
  },
  {
   "cell_type": "code",
   "execution_count": 70,
   "metadata": {},
   "outputs": [],
   "source": [
    "def knbrs(G, start, k):\n",
    "    nbrs = set([start])\n",
    "    for l in range(k):\n",
    "        nbrs = set((nbr for n in nbrs for nbr in G[n]))\n",
    "    return nbrs"
   ]
  },
  {
   "cell_type": "code",
   "execution_count": 90,
   "metadata": {},
   "outputs": [
    {
     "data": {
      "text/plain": [
       "set()"
      ]
     },
     "execution_count": 90,
     "metadata": {},
     "output_type": "execute_result"
    }
   ],
   "source": [
    "nx.descendants_at_distance(sg.graph, 90, 3)"
   ]
  },
  {
   "cell_type": "code",
   "execution_count": 89,
   "metadata": {},
   "outputs": [
    {
     "data": {
      "text/plain": [
       "PeriodicSite: H (3.1612, 20.3368, 10.0103) [0.1200, 0.7720, 0.3800]"
      ]
     },
     "execution_count": 89,
     "metadata": {},
     "output_type": "execute_result"
    }
   ],
   "source": [
    "sg.structure[90]"
   ]
  },
  {
   "cell_type": "code",
   "execution_count": 41,
   "metadata": {},
   "outputs": [],
   "source": [
    "from collections import defaultdict\n",
    "from mofdscribe.utils.aggregators import AGGREGATORS"
   ]
  },
  {
   "cell_type": "code",
   "execution_count": 65,
   "metadata": {},
   "outputs": [],
   "source": [
    "\n",
    "def compute_racs(start_indices: Iterable[int], structure_graph: StructureGraph, properties: Tuple[str], scope: int, property_aggregations: Tuple[str], corr_aggregations: Tuple[str], part_name: str=''):\n",
    "    racs = defaultdict(lambda: defaultdict(list))\n",
    "    for start_atom in start_indices: \n",
    "        neighbors = nx.descendants_at_distance(structure_graph.graph, start_atom, scope)\n",
    "        \n",
    "        # We only branch if there are actually neighbors scope many bonds away ...\n",
    "        if len(neighbors) > 0:\n",
    "            site = structure_graph.structure[start_atom]\n",
    "            for neighbor in neighbors:\n",
    "                n = structure_graph.structure[neighbor]\n",
    "                for prop in properties:\n",
    "                    if prop == 1:\n",
    "                        p0 = 1\n",
    "                        p1 = 1\n",
    "                    else:\n",
    "                        p0 = getattr(site.specie, prop)\n",
    "                        p1 = getattr(n.specie, prop)\n",
    "\n",
    "                    for agg in property_aggregations:\n",
    "                        agg_func = AGGREGATORS[agg]\n",
    "                        racs[prop][agg].append(agg_func((p0, p1)))\n",
    "\n",
    "    aggregated_racs = {}\n",
    "    \n",
    "    for property_name, property_values in racs.items():\n",
    "        for aggregation_name, aggregation_values in property_values.items():\n",
    "            for corr_agg in corr_aggregations:\n",
    "                agg_func = AGGREGATORS[corr_agg]\n",
    "                name = f'racs_{part_name}_{property_name}_{scope}_{aggregation_name}_{corr_agg}'\n",
    "                aggregated_racs[name] = agg_func(aggregation_values)\n",
    "\n",
    "    return aggregated_racs\n"
   ]
  },
  {
   "cell_type": "code",
   "execution_count": 66,
   "metadata": {},
   "outputs": [
    {
     "data": {
      "text/plain": [
       "{'racs__X_2_avg_sum': 5.99,\n",
       " 'racs__X_2_product_sum': 17.543999999999997,\n",
       " 'racs__X_2_diff_sum': 1.7800000000000002,\n",
       " 'racs__electron_affinity_2_avg_sum': 2.723218912,\n",
       " 'racs__electron_affinity_2_product_sum': 3.6881617753906877,\n",
       " 'racs__electron_affinity_2_diff_sum': 0.397983376,\n",
       " 'racs__1_2_avg_sum': 2.0,\n",
       " 'racs__1_2_product_sum': 2,\n",
       " 'racs__1_2_diff_sum': 0,\n",
       " 'racs__atomic_mass_2_avg_sum': 28.0101,\n",
       " 'racs__atomic_mass_2_product_sum': 384.32798715999996,\n",
       " 'racs__atomic_mass_2_diff_sum': 7.977399999999999}"
      ]
     },
     "execution_count": 66,
     "metadata": {},
     "output_type": "execute_result"
    }
   ],
   "source": [
    "compute_racs(linker_fragments[2][0], sg, ('X', 'electron_affinity', 1, 'atomic_mass'), 2, ('avg', 'product', 'diff'), ('sum',))"
   ]
  },
  {
   "cell_type": "markdown",
   "metadata": {},
   "source": []
  }
 ],
 "metadata": {
  "interpreter": {
   "hash": "3ffc06f754d7c80b59e39914e7792f1f92938dc6ca13a8ff96847f8f4d27fee3"
  },
  "kernelspec": {
   "display_name": "Python 3.8.13 ('mofdscribe')",
   "language": "python",
   "name": "python3"
  },
  "language_info": {
   "codemirror_mode": {
    "name": "ipython",
    "version": 3
   },
   "file_extension": ".py",
   "mimetype": "text/x-python",
   "name": "python",
   "nbconvert_exporter": "python",
   "pygments_lexer": "ipython3",
   "version": "3.8.13"
  },
  "orig_nbformat": 4
 },
 "nbformat": 4,
 "nbformat_minor": 2
}
