{
 "cells": [
  {
   "cell_type": "code",
   "execution_count": 1,
   "metadata": {},
   "outputs": [],
   "source": [
    "import re"
   ]
  },
  {
   "cell_type": "code",
   "execution_count": 2,
   "metadata": {},
   "outputs": [],
   "source": [
    "SA_SAMPLE_OUTPUT = \"\"\"@ EDI.sa Unitcell_volume: 307.484   Density: 1.62239   \n",
    "\n",
    "ASA_A^2: 60.7713 ASA_m^2/cm^3: 1976.4 ASA_m^2/g: 1218.21 \n",
    "\n",
    "NASA_A^2: 0 NASA_m^2/cm^3: 0 NASA_m^2/g: 0\"\"\"\n"
   ]
  },
  {
   "cell_type": "code",
   "execution_count": 23,
   "metadata": {},
   "outputs": [],
   "source": [
    "regex_unitcell = re.compile('Unitcell_volume: ((\\d+\\.\\d+)|\\d+)')\n",
    "regex_density = re.compile('Density: ((\\d+\\.\\d+)|\\d+)') \n",
    "asa_a2 = re.compile('ASA_A\\^2: ((\\d+\\.\\d+)|\\d+)') \n",
    "asa_m2cm3 = re.compile('ASA_m\\^2/cm\\^3: ((\\d+\\.\\d+)|\\d+)') \n",
    "asa_m2g= re.compile('ASA_m\\^2/g: ((\\d+\\.\\d+)|\\d+)') \n",
    "nasa_a2 = re.compile('NASA_A\\^2: ((\\d+\\.\\d+)|\\d+)') \n",
    "nasa_m2cm3 = re.compile('NASA_m\\^2/cm\\^3: ((\\d+\\.\\d+)|\\d+)') \n",
    "nasa_m2g = re.compile('NASA_m\\^2/g: ((\\d+\\.\\d+)|\\d+)') "
   ]
  },
  {
   "cell_type": "code",
   "execution_count": 25,
   "metadata": {},
   "outputs": [
    {
     "data": {
      "text/plain": [
       "[('0', '')]"
      ]
     },
     "execution_count": 25,
     "metadata": {},
     "output_type": "execute_result"
    }
   ],
   "source": [
    "nasa_m2g.findall(SA_SAMPLE_OUTPUT)"
   ]
  },
  {
   "cell_type": "code",
   "execution_count": 26,
   "metadata": {},
   "outputs": [],
   "source": [
    "def _parse_sa_zeopp(filecontent):\n",
    "    regex_unitcell = re.compile('Unitcell_volume: ((\\d+\\.\\d+)|\\d+)')\n",
    "    regex_density = re.compile('Density: ((\\d+\\.\\d+)|\\d+)') \n",
    "    asa_a2 = re.compile('ASA_A\\^2: ((\\d+\\.\\d+)|\\d+)') \n",
    "    asa_m2cm3 = re.compile('ASA_m\\^2/cm\\^3: ((\\d+\\.\\d+)|\\d+)') \n",
    "    asa_m2g= re.compile('ASA_m\\^2/g: ((\\d+\\.\\d+)|\\d+)') \n",
    "    nasa_a2 = re.compile('NASA_A\\^2: ((\\d+\\.\\d+)|\\d+)') \n",
    "    nasa_m2cm3 = re.compile('NASA_m\\^2/cm\\^3: ((\\d+\\.\\d+)|\\d+)') \n",
    "    nasa_m2g = re.compile('NASA_m\\^2/g: ((\\d+\\.\\d+)|\\d+)') \n",
    "\n",
    "    d = {\n",
    "        \"unitcell_volume\": float(re.findall(regex_unitcell, filecontent)[0][0]),\n",
    "        \"density\": float(re.findall(regex_density, filecontent)[0][0]),\n",
    "        \"asa_a2\": float(re.findall(asa_a2, filecontent)[0][0]),\n",
    "        \"asa_m2cm3\": float(re.findall(asa_m2cm3, filecontent)[0][0]),\n",
    "        \"asa_m2g\": float(re.findall(asa_m2g, filecontent)[0][0]),\n",
    "        \"nasa_a2\": float(re.findall(nasa_a2, filecontent)[0][0]),\n",
    "        \"nasa_m2cm3\": float(re.findall(nasa_m2cm3, filecontent)[0][0]),\n",
    "        \"nasa_m2g\": float(re.findall(nasa_m2g, filecontent)[0][0]),\n",
    "    }\n",
    "\n",
    "    return d"
   ]
  },
  {
   "cell_type": "code",
   "execution_count": 27,
   "metadata": {},
   "outputs": [
    {
     "data": {
      "text/plain": [
       "{'unitcell_volume': '307.484',\n",
       " 'density': '1.62239',\n",
       " 'asa_a2': '60.7713',\n",
       " 'asa_m2cm3': '1976.4',\n",
       " 'asa_m2g': '1218.21',\n",
       " 'nasa_a2': '0',\n",
       " 'nasa_m2cm3': '0',\n",
       " 'nasa_m2g': '0'}"
      ]
     },
     "execution_count": 27,
     "metadata": {},
     "output_type": "execute_result"
    }
   ],
   "source": [
    "_parse_sa_zeopp(SA_SAMPLE_OUTPUT)"
   ]
  },
  {
   "cell_type": "code",
   "execution_count": null,
   "metadata": {},
   "outputs": [],
   "source": []
  }
 ],
 "metadata": {
  "interpreter": {
   "hash": "504d9678a7660ab60f21950c8a644a7c3f2309ace653d8a0639c80f4ba7e4242"
  },
  "kernelspec": {
   "display_name": "Python 3.8.12 ('moffragmentor')",
   "language": "python",
   "name": "python3"
  },
  "language_info": {
   "codemirror_mode": {
    "name": "ipython",
    "version": 3
   },
   "file_extension": ".py",
   "mimetype": "text/x-python",
   "name": "python",
   "nbconvert_exporter": "python",
   "pygments_lexer": "ipython3",
   "version": "3.8.13"
  },
  "orig_nbformat": 4
 },
 "nbformat": 4,
 "nbformat_minor": 2
}
