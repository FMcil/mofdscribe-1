{
 "cells": [
  {
   "cell_type": "code",
   "execution_count": 5,
   "metadata": {},
   "outputs": [],
   "source": [
    "import re"
   ]
  },
  {
   "cell_type": "code",
   "execution_count": 2,
   "metadata": {},
   "outputs": [],
   "source": [
    "SA_SAMPLE_OUTPUT = \"\"\"@ EDI.sa Unitcell_volume: 307.484   Density: 1.62239   \n",
    "\n",
    "ASA_A^2: 60.7713 ASA_m^2/cm^3: 1976.4 ASA_m^2/g: 1218.21 \n",
    "\n",
    "NASA_A^2: 0 NASA_m^2/cm^3: 0 NASA_m^2/g: 0\"\"\"\n"
   ]
  },
  {
   "cell_type": "code",
   "execution_count": 23,
   "metadata": {},
   "outputs": [],
   "source": [
    "regex_unitcell = re.compile('Unitcell_volume: ((\\d+\\.\\d+)|\\d+)')\n",
    "regex_density = re.compile('Density: ((\\d+\\.\\d+)|\\d+)') \n",
    "asa_a2 = re.compile('ASA_A\\^2: ((\\d+\\.\\d+)|\\d+)') \n",
    "asa_m2cm3 = re.compile('ASA_m\\^2/cm\\^3: ((\\d+\\.\\d+)|\\d+)') \n",
    "asa_m2g= re.compile('ASA_m\\^2/g: ((\\d+\\.\\d+)|\\d+)') \n",
    "nasa_a2 = re.compile('NASA_A\\^2: ((\\d+\\.\\d+)|\\d+)') \n",
    "nasa_m2cm3 = re.compile('NASA_m\\^2/cm\\^3: ((\\d+\\.\\d+)|\\d+)') \n",
    "nasa_m2g = re.compile('NASA_m\\^2/g: ((\\d+\\.\\d+)|\\d+)') "
   ]
  },
  {
   "cell_type": "code",
   "execution_count": 25,
   "metadata": {},
   "outputs": [
    {
     "data": {
      "text/plain": [
       "[('0', '')]"
      ]
     },
     "execution_count": 25,
     "metadata": {},
     "output_type": "execute_result"
    }
   ],
   "source": [
    "nasa_m2g.findall(SA_SAMPLE_OUTPUT)"
   ]
  },
  {
   "cell_type": "code",
   "execution_count": 26,
   "metadata": {},
   "outputs": [],
   "source": [
    "def _parse_sa_zeopp(filecontent):\n",
    "    regex_unitcell = re.compile('Unitcell_volume: ((\\d+\\.\\d+)|\\d+)')\n",
    "    regex_density = re.compile('Density: ((\\d+\\.\\d+)|\\d+)') \n",
    "    asa_a2 = re.compile('ASA_A\\^2: ((\\d+\\.\\d+)|\\d+)') \n",
    "    asa_m2cm3 = re.compile('ASA_m\\^2/cm\\^3: ((\\d+\\.\\d+)|\\d+)') \n",
    "    asa_m2g= re.compile('ASA_m\\^2/g: ((\\d+\\.\\d+)|\\d+)') \n",
    "    nasa_a2 = re.compile('NASA_A\\^2: ((\\d+\\.\\d+)|\\d+)') \n",
    "    nasa_m2cm3 = re.compile('NASA_m\\^2/cm\\^3: ((\\d+\\.\\d+)|\\d+)') \n",
    "    nasa_m2g = re.compile('NASA_m\\^2/g: ((\\d+\\.\\d+)|\\d+)') \n",
    "\n",
    "    d = {\n",
    "        \"unitcell_volume\": float(re.findall(regex_unitcell, filecontent)[0][0]),\n",
    "        \"density\": float(re.findall(regex_density, filecontent)[0][0]),\n",
    "        \"asa_a2\": float(re.findall(asa_a2, filecontent)[0][0]),\n",
    "        \"asa_m2cm3\": float(re.findall(asa_m2cm3, filecontent)[0][0]),\n",
    "        \"asa_m2g\": float(re.findall(asa_m2g, filecontent)[0][0]),\n",
    "        \"nasa_a2\": float(re.findall(nasa_a2, filecontent)[0][0]),\n",
    "        \"nasa_m2cm3\": float(re.findall(nasa_m2cm3, filecontent)[0][0]),\n",
    "        \"nasa_m2g\": float(re.findall(nasa_m2g, filecontent)[0][0]),\n",
    "    }\n",
    "\n",
    "    return d"
   ]
  },
  {
   "cell_type": "code",
   "execution_count": 27,
   "metadata": {},
   "outputs": [
    {
     "data": {
      "text/plain": [
       "{'unitcell_volume': '307.484',\n",
       " 'density': '1.62239',\n",
       " 'asa_a2': '60.7713',\n",
       " 'asa_m2cm3': '1976.4',\n",
       " 'asa_m2g': '1218.21',\n",
       " 'nasa_a2': '0',\n",
       " 'nasa_m2cm3': '0',\n",
       " 'nasa_m2g': '0'}"
      ]
     },
     "execution_count": 27,
     "metadata": {},
     "output_type": "execute_result"
    }
   ],
   "source": [
    "_parse_sa_zeopp(SA_SAMPLE_OUTPUT)"
   ]
  },
  {
   "cell_type": "code",
   "execution_count": 12,
   "metadata": {},
   "outputs": [],
   "source": [
    "VOLPO_TEST_STRING = \"\"\"@ EDI.vol Unitcell_volume: 307.484   Density: 1.62239   \n",
    "\n",
    "AV_A^3: 22.6493 AV_Volume_fraction: 0.07366 AV_cm^3/g: 0.0454022 \n",
    "\n",
    "NAV_A^3: 0 NAV_Volume_fraction: 0 NAV_cm^3/g: 0\"\"\""
   ]
  },
  {
   "cell_type": "code",
   "execution_count": 27,
   "metadata": {},
   "outputs": [
    {
     "data": {
      "text/plain": [
       "[('0', ''), ('', '')]"
      ]
     },
     "execution_count": 27,
     "metadata": {},
     "output_type": "execute_result"
    }
   ],
   "source": [
    "nav_a3 = re.compile(\"NAV_A\\^3: ((\\d+\\.\\d+)|\\d+)|$\")\n",
    "re.findall(nav_a3, VOLPO_TEST_STRING)"
   ]
  },
  {
   "cell_type": "code",
   "execution_count": 30,
   "metadata": {},
   "outputs": [],
   "source": [
    "def _parse_volpo_zeopp(filecontent):\n",
    "    regex_unitcell = re.compile(\"Unitcell_volume: ((\\d+\\.\\d+)|\\d+)|$\")\n",
    "    regex_density = re.compile(\"Density: ((\\d+\\.\\d+)|\\d+)|$\")\n",
    "    av_a3 = re.compile(\"AV_A\\^3: ((\\d+\\.\\d+)|\\d+)|$\")\n",
    "    av_volume_fraction = re.compile(\"AV_Volume_fraction: ((\\d+\\.\\d+)|\\d+)|$\")\n",
    "    av_cm3g = re.compile(\"AV_cm\\^3/g: ((\\d+\\.\\d+)|\\d+)|$\")\n",
    "    nav_a3 = re.compile(\"NAV_A\\^3: ((\\d+\\.\\d+)|\\d+)|$\")\n",
    "    nav_volume_fraction = re.compile(\"NAV_Volume_fraction: ((\\d+\\.\\d+)|\\d+)|$\")\n",
    "    nav_cm3g = re.compile(\"NAV_cm\\^3/g: ((\\d+\\.\\d+)|\\d+)|$\")\n",
    "\n",
    "    d = {\n",
    "        \"unitcell_volume\": float(re.findall(regex_unitcell, filecontent)[0][0]),\n",
    "        \"density\": float(re.findall(regex_density, filecontent)[0][0]),\n",
    "        \"av_a3\": float(re.findall(av_a3, filecontent)[0][0]),\n",
    "        \"av_volume_fraction\": float(re.findall(av_volume_fraction, filecontent)[0][0]),\n",
    "        \"av_cm3g\": float(re.findall(av_cm3g, filecontent)[0][0]),\n",
    "        \"nav_a3\": float(re.findall(nav_a3, filecontent)[0][0]),\n",
    "        \"nav_volume_fraction\": float(re.findall(nav_volume_fraction, filecontent)[0][0]),\n",
    "        \"nav_cm3g\": float(re.findall(nav_cm3g, filecontent)[0][0]),\n",
    "    }\n",
    "\n",
    "    return d"
   ]
  },
  {
   "cell_type": "code",
   "execution_count": 31,
   "metadata": {},
   "outputs": [
    {
     "data": {
      "text/plain": [
       "{'unitcell_volume': 307.484,\n",
       " 'density': 1.62239,\n",
       " 'av_a3': 22.6493,\n",
       " 'av_volume_fraction': 0.07366,\n",
       " 'av_cm3g': 0.0454022,\n",
       " 'nav_a3': 0.0,\n",
       " 'nav_volume_fraction': 0.07366,\n",
       " 'nav_cm3g': 0.0}"
      ]
     },
     "execution_count": 31,
     "metadata": {},
     "output_type": "execute_result"
    }
   ],
   "source": [
    "_parse_volpo_zeopp(VOLPO_TEST_STRING)"
   ]
  },
  {
   "cell_type": "code",
   "execution_count": null,
   "metadata": {},
   "outputs": [],
   "source": []
  }
 ],
 "metadata": {
  "interpreter": {
   "hash": "504d9678a7660ab60f21950c8a644a7c3f2309ace653d8a0639c80f4ba7e4242"
  },
  "kernelspec": {
   "display_name": "Python 3.8.12 ('moffragmentor')",
   "language": "python",
   "name": "python3"
  },
  "language_info": {
   "codemirror_mode": {
    "name": "ipython",
    "version": 3
   },
   "file_extension": ".py",
   "mimetype": "text/x-python",
   "name": "python",
   "nbconvert_exporter": "python",
   "pygments_lexer": "ipython3",
   "version": "3.8.13"
  },
  "orig_nbformat": 4
 },
 "nbformat": 4,
 "nbformat_minor": 2
}
