{
 "cells": [
  {
   "cell_type": "code",
   "execution_count": 3,
   "metadata": {},
   "outputs": [],
   "source": [
    "from collections import defaultdict\n",
    "from typing import List, Tuple, Union\n",
    "from pervect import PersistenceVectorizer\n",
    "from matminer.featurizers.base import BaseFeaturizer\n",
    "from pymatgen.core import Structure, IStructure\n",
    "import numpy as np\n",
    "\n",
    "from moltda.construct_pd import construct_pds\n",
    "from moltda.read_file import make_supercell\n",
    "from moltda.vectorize_pds import diagrams_to_arrays, get_images, pd_vectorization\n",
    "from pymatgen.core import Structure"
   ]
  },
  {
   "cell_type": "code",
   "execution_count": 2,
   "metadata": {},
   "outputs": [],
   "source": [
    "s0 = IStructure.from_file('/Users/kevinmaikjablonka/git/kjappelbaum/mofdscribe/tests/test_files/HKUST-1.cif')\n",
    "s1 = IStructure.from_file('/Users/kevinmaikjablonka/git/kjappelbaum/mofdscribe/tests/test_files/IRMOF-1.cif')"
   ]
  },
  {
   "cell_type": "code",
   "execution_count": 79,
   "metadata": {},
   "outputs": [],
   "source": [
    "def diagrams_to_bd_arrays(dgms):\n",
    "    \"\"\"Convert persistence diagram objects to persistence diagram arrays.\"\"\"\n",
    "    dgm_arrays = {} \n",
    "    for dim, dgm in enumerate(dgms):\n",
    "        if len(dgm) == 0:\n",
    "            dgm_arrays[f\"dim{dim}\"] = np.zeros((0, 2))\n",
    "        else:\n",
    "            arr =    np.array([[np.sqrt(p.birth), np.sqrt(p.death)] for p in dgm])\n",
    "         \n",
    "            mask = np.isfinite(arr).all(axis=1)\n",
    "    \n",
    "            arr = arr[mask]\n",
    "            dgm_arrays[f\"dim{dim}\"] = arr\n",
    "    return dgm_arrays"
   ]
  },
  {
   "cell_type": "code",
   "execution_count": 80,
   "metadata": {},
   "outputs": [],
   "source": [
    "coords = make_supercell(s0.cart_coords, s0.lattice.matrix, 20)\n",
    "pd0 = diagrams_to_arrays(construct_pds(coords))\n",
    "\n",
    "coords = make_supercell(s1.cart_coords, s1.lattice.matrix, 20)\n",
    "pd1 = diagrams_to_arrays(construct_pds(coords))"
   ]
  },
  {
   "cell_type": "code",
   "execution_count": 81,
   "metadata": {},
   "outputs": [],
   "source": [
    "pv = PersistenceVectorizer()"
   ]
  },
  {
   "cell_type": "code",
   "execution_count": 82,
   "metadata": {},
   "outputs": [
    {
     "data": {
      "text/plain": [
       "array([[4.66526631e-105, 5.99999215e+001, 3.00000000e+000,\n",
       "        1.79940039e+001, 0.00000000e+000, 2.09412055e+001,\n",
       "        1.09996644e+001, 1.00000000e+000, 8.40000000e+001,\n",
       "        6.19234443e-049, 1.06058211e+001, 2.96951436e+000,\n",
       "        1.79999830e+001, 1.79999998e+001, 7.85180789e-005,\n",
       "        9.00000144e+000, 1.06788869e+001, 2.10587945e+001,\n",
       "        3.03648193e+000, 1.07156430e+001],\n",
       "       [4.20000000e+001, 1.04690772e-005, 0.00000000e+000,\n",
       "        2.22766057e-003, 3.00000000e+000, 1.80514347e+001,\n",
       "        5.26573598e-004, 0.00000000e+000, 2.33263315e-105,\n",
       "        3.40000000e+001, 1.80086432e+001, 2.11483387e+001,\n",
       "        6.25990683e-007, 1.41954729e-019, 7.99998953e+000,\n",
       "        3.67643058e-020, 1.79985236e+001, 1.79485653e+001,\n",
       "        2.08494336e+001, 1.79923060e+001]])"
      ]
     },
     "execution_count": 82,
     "metadata": {},
     "output_type": "execute_result"
    }
   ],
   "source": [
    "pv.fit_transform([pd0[\"dim0\"], pd1[\"dim0\"]])"
   ]
  },
  {
   "cell_type": "code",
   "execution_count": null,
   "metadata": {},
   "outputs": [],
   "source": []
  }
 ],
 "metadata": {
  "interpreter": {
   "hash": "3ffc06f754d7c80b59e39914e7792f1f92938dc6ca13a8ff96847f8f4d27fee3"
  },
  "kernelspec": {
   "display_name": "Python 3.8.13 ('mofdscribe')",
   "language": "python",
   "name": "python3"
  },
  "language_info": {
   "codemirror_mode": {
    "name": "ipython",
    "version": 3
   },
   "file_extension": ".py",
   "mimetype": "text/x-python",
   "name": "python",
   "nbconvert_exporter": "python",
   "pygments_lexer": "ipython3",
   "version": "3.8.13"
  },
  "orig_nbformat": 4
 },
 "nbformat": 4,
 "nbformat_minor": 2
}
