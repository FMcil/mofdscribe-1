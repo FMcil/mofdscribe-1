{
 "cells": [
  {
   "cell_type": "markdown",
   "metadata": {},
   "source": [
    "# Performing hyperparameter optimization in the bench class\n"
   ]
  },
  {
   "cell_type": "markdown",
   "metadata": {},
   "source": [
    "For this example we will use a model that consumes pre-computed features.\n",
    "We will use [CatBoost](https://catboost.ai/) which you need to install separately (e.g. using `pip install catboost`).\n",
    "\n",
    "We will use [Optuna](https://optuna.org/) for hyperparameter optimization.\n"
   ]
  },
  {
   "cell_type": "code",
   "execution_count": 1,
   "metadata": {},
   "outputs": [],
   "source": [
    "import optuna\n",
    "from catboost import CatBoostRegressor\n",
    "from sklearn.metrics import mean_squared_error\n",
    "\n",
    "from mofdscribe.bench import LogkHCO2OODBench\n",
    "from mofdscribe.bench.df_model import DFModel\n",
    "from mofdscribe.splitters import HashSplitter\n"
   ]
  },
  {
   "cell_type": "code",
   "execution_count": 2,
   "metadata": {},
   "outputs": [],
   "source": [
    "FEATURES = [\n",
    "    \"total_POV_gravimetric\",\n",
    "    \"mc_CRY-chi-0-all\",\n",
    "    \"mc_CRY-chi-1-all\",\n",
    "    \"mc_CRY-chi-2-all\",\n",
    "    \"mc_CRY-chi-3-all\",\n",
    "    \"mc_CRY-Z-0-all\",\n",
    "    \"mc_CRY-Z-1-all\",\n",
    "    \"mc_CRY-Z-2-all\",\n",
    "    \"mc_CRY-Z-3-all\",\n",
    "    \"mc_CRY-I-0-all\",\n",
    "    \"mc_CRY-I-1-all\",\n",
    "    \"mc_CRY-I-2-all\",\n",
    "    \"mc_CRY-I-3-all\",\n",
    "    \"mc_CRY-T-0-all\",\n",
    "    \"mc_CRY-T-1-all\",\n",
    "    \"mc_CRY-T-2-all\",\n",
    "    \"mc_CRY-T-3-all\",\n",
    "    \"mc_CRY-S-0-all\",\n",
    "    \"mc_CRY-S-1-all\",\n",
    "    \"mc_CRY-S-2-all\",\n",
    "    \"mc_CRY-S-3-all\",\n",
    "    \"D_mc_CRY-chi-0-all\",\n",
    "    \"D_mc_CRY-chi-1-all\",\n",
    "    \"D_mc_CRY-chi-2-all\",\n",
    "    \"D_mc_CRY-chi-3-all\",\n",
    "    \"D_mc_CRY-Z-0-all\",\n",
    "    \"D_mc_CRY-Z-1-all\",\n",
    "    \"D_mc_CRY-Z-2-all\",\n",
    "    \"D_mc_CRY-Z-3-all\",\n",
    "    \"D_mc_CRY-I-0-all\",\n",
    "    \"D_mc_CRY-I-1-all\",\n",
    "    \"D_mc_CRY-I-2-all\",\n",
    "    \"D_mc_CRY-I-3-all\",\n",
    "    \"D_mc_CRY-T-0-all\",\n",
    "    \"D_mc_CRY-T-1-all\",\n",
    "    \"D_mc_CRY-T-2-all\",\n",
    "    \"D_mc_CRY-T-3-all\",\n",
    "    \"D_mc_CRY-S-0-all\",\n",
    "    \"D_mc_CRY-S-1-all\",\n",
    "    \"D_mc_CRY-S-2-all\",\n",
    "    \"D_mc_CRY-S-3-all\",\n",
    "    \"sum-mc_CRY-chi-0-all\",\n",
    "    \"sum-mc_CRY-chi-1-all\",\n",
    "    \"sum-mc_CRY-chi-2-all\",\n",
    "    \"sum-mc_CRY-chi-3-all\",\n",
    "    \"sum-mc_CRY-Z-0-all\",\n",
    "    \"sum-mc_CRY-Z-1-all\",\n",
    "    \"sum-mc_CRY-Z-2-all\",\n",
    "    \"sum-mc_CRY-Z-3-all\",\n",
    "    \"sum-mc_CRY-I-0-all\",\n",
    "    \"sum-mc_CRY-I-1-all\",\n",
    "    \"sum-mc_CRY-I-2-all\",\n",
    "    \"sum-mc_CRY-I-3-all\",\n",
    "    \"sum-mc_CRY-T-0-all\",\n",
    "    \"sum-mc_CRY-T-1-all\",\n",
    "    \"sum-mc_CRY-T-2-all\",\n",
    "    \"sum-mc_CRY-T-3-all\",\n",
    "    \"sum-mc_CRY-S-0-all\",\n",
    "    \"sum-mc_CRY-S-1-all\",\n",
    "    \"sum-mc_CRY-S-2-all\",\n",
    "    \"sum-mc_CRY-S-3-all\",\n",
    "    \"sum-D_mc_CRY-chi-0-all\",\n",
    "    \"sum-D_mc_CRY-chi-1-all\",\n",
    "    \"sum-D_mc_CRY-chi-2-all\",\n",
    "    \"sum-D_mc_CRY-chi-3-all\",\n",
    "    \"sum-D_mc_CRY-Z-0-all\",\n",
    "    \"sum-D_mc_CRY-Z-1-all\",\n",
    "    \"sum-D_mc_CRY-Z-2-all\",\n",
    "    \"sum-D_mc_CRY-Z-3-all\",\n",
    "    \"sum-D_mc_CRY-I-0-all\",\n",
    "    \"sum-D_mc_CRY-I-1-all\",\n",
    "    \"sum-D_mc_CRY-I-2-all\",\n",
    "    \"sum-D_mc_CRY-I-3-all\",\n",
    "    \"sum-D_mc_CRY-T-0-all\",\n",
    "    \"sum-D_mc_CRY-T-1-all\",\n",
    "    \"sum-D_mc_CRY-T-2-all\",\n",
    "    \"sum-D_mc_CRY-T-3-all\",\n",
    "    \"sum-D_mc_CRY-S-0-all\",\n",
    "    \"sum-D_mc_CRY-S-1-all\",\n",
    "    \"sum-D_mc_CRY-S-2-all\",\n",
    "    \"sum-D_mc_CRY-S-3-all\",\n",
    "    \"D_lc-chi-0-all\",\n",
    "    \"D_lc-chi-1-all\",\n",
    "    \"D_lc-chi-2-all\",\n",
    "    \"D_lc-chi-3-all\",\n",
    "    \"D_lc-Z-0-all\",\n",
    "    \"D_lc-Z-1-all\",\n",
    "    \"D_lc-Z-2-all\",\n",
    "    \"D_lc-Z-3-all\",\n",
    "    \"D_lc-I-0-all\",\n",
    "    \"D_lc-I-1-all\",\n",
    "    \"D_lc-I-2-all\",\n",
    "    \"D_lc-I-3-all\",\n",
    "    \"D_lc-T-0-all\",\n",
    "    \"D_lc-T-1-all\",\n",
    "    \"D_lc-T-2-all\",\n",
    "    \"D_lc-T-3-all\",\n",
    "    \"D_lc-S-0-all\",\n",
    "    \"D_lc-S-1-all\",\n",
    "    \"D_lc-S-2-all\",\n",
    "    \"D_lc-S-3-all\",\n",
    "    \"D_lc-alpha-0-all\",\n",
    "    \"D_lc-alpha-1-all\",\n",
    "    \"D_lc-alpha-2-all\",\n",
    "    \"D_lc-alpha-3-all\",\n",
    "    \"D_func-chi-0-all\",\n",
    "    \"D_func-chi-1-all\",\n",
    "    \"D_func-chi-2-all\",\n",
    "    \"D_func-chi-3-all\",\n",
    "    \"D_func-Z-0-all\",\n",
    "    \"D_func-Z-1-all\",\n",
    "    \"D_func-Z-2-all\",\n",
    "    \"D_func-Z-3-all\",\n",
    "    \"D_func-I-0-all\",\n",
    "    \"D_func-I-1-all\",\n",
    "    \"D_func-I-2-all\",\n",
    "    \"D_func-I-3-all\",\n",
    "    \"D_func-T-0-all\",\n",
    "    \"D_func-T-1-all\",\n",
    "    \"D_func-T-2-all\",\n",
    "    \"D_func-T-3-all\",\n",
    "    \"D_func-S-0-all\",\n",
    "    \"D_func-S-1-all\",\n",
    "    \"D_func-S-2-all\",\n",
    "    \"D_func-S-3-all\",\n",
    "    \"D_func-alpha-0-all\",\n",
    "    \"D_func-alpha-1-all\",\n",
    "    \"D_func-alpha-2-all\",\n",
    "    \"D_func-alpha-3-all\",\n",
    "    \"sum-D_lc-chi-0-all\",\n",
    "    \"sum-D_lc-chi-1-all\",\n",
    "    \"sum-D_lc-chi-2-all\",\n",
    "    \"sum-D_lc-chi-3-all\",\n",
    "    \"sum-D_lc-Z-0-all\",\n",
    "    \"sum-D_lc-Z-1-all\",\n",
    "    \"sum-D_lc-Z-2-all\",\n",
    "    \"sum-D_lc-Z-3-all\",\n",
    "    \"sum-D_lc-I-0-all\",\n",
    "    \"sum-D_lc-I-1-all\",\n",
    "    \"sum-D_lc-I-2-all\",\n",
    "    \"sum-D_lc-I-3-all\",\n",
    "    \"sum-D_lc-T-0-all\",\n",
    "    \"sum-D_lc-T-1-all\",\n",
    "    \"sum-D_lc-T-2-all\",\n",
    "    \"sum-D_lc-T-3-all\",\n",
    "    \"sum-D_lc-S-0-all\",\n",
    "    \"sum-D_lc-S-1-all\",\n",
    "    \"sum-D_lc-S-2-all\",\n",
    "    \"sum-D_lc-S-3-all\",\n",
    "    \"sum-D_lc-alpha-0-all\",\n",
    "    \"sum-D_lc-alpha-1-all\",\n",
    "    \"sum-D_lc-alpha-2-all\",\n",
    "    \"sum-D_lc-alpha-3-all\",\n",
    "    \"sum-D_func-chi-0-all\",\n",
    "    \"sum-D_func-chi-1-all\",\n",
    "    \"sum-D_func-chi-2-all\",\n",
    "    \"sum-D_func-chi-3-all\",\n",
    "    \"sum-D_func-Z-0-all\",\n",
    "    \"sum-D_func-Z-1-all\",\n",
    "    \"sum-D_func-Z-2-all\",\n",
    "    \"sum-D_func-Z-3-all\",\n",
    "    \"sum-D_func-I-0-all\",\n",
    "    \"sum-D_func-I-1-all\",\n",
    "    \"sum-D_func-I-2-all\",\n",
    "    \"sum-D_func-I-3-all\",\n",
    "    \"sum-D_func-T-0-all\",\n",
    "    \"sum-D_func-T-1-all\",\n",
    "    \"sum-D_func-T-2-all\",\n",
    "    \"sum-D_func-T-3-all\",\n",
    "    \"sum-D_func-S-0-all\",\n",
    "    \"sum-D_func-S-1-all\",\n",
    "    \"sum-D_func-S-2-all\",\n",
    "    \"sum-D_func-S-3-all\",\n",
    "    \"sum-D_func-alpha-0-all\",\n",
    "    \"sum-D_func-alpha-1-all\",\n",
    "    \"sum-D_func-alpha-2-all\",\n",
    "    \"sum-D_func-alpha-3-all\",\n",
    "]\n",
    "\n",
    "TARGET = \"logKH_CO2\"\n"
   ]
  },
  {
   "cell_type": "markdown",
   "metadata": {},
   "source": [
    "## Make sure we can make it work outside MOFBench\n"
   ]
  },
  {
   "cell_type": "code",
   "execution_count": 3,
   "metadata": {},
   "outputs": [],
   "source": [
    "def tune(train_data, valid_data, num_trials=10):\n",
    "    def objective(trial):\n",
    "        param = {\n",
    "            \"colsample_bylevel\": trial.suggest_float(\"colsample_bylevel\", 0.01, 0.1, log=True),\n",
    "            \"depth\": trial.suggest_int(\"depth\", 1, 16),\n",
    "            \"iterations\": trial.suggest_int(\"iterations\", 1, 10000),\n",
    "            \"learning_rate\": trial.suggest_float(\"learning_rate\", 0.001, 0.5, log=True),\n",
    "            \"l2_leaf_reg\": trial.suggest_float(\"l2_leaf_reg\", 0.01, 10),\n",
    "            \"random_strength\": trial.suggest_float(\"random_strength\", 0.01, 10),\n",
    "            \"bagging_temperature\": trial.suggest_float(\"bagging_temperature\", 0.01, 10),\n",
    "        }\n",
    "        model = CatBoostRegressor(\n",
    "            **param,\n",
    "            silent=True,\n",
    "        )\n",
    "        model.fit(train_data[0], train_data[1])\n",
    "\n",
    "        predictions = model.predict(valid_data[0])\n",
    "        mse = mean_squared_error(valid_data[1], predictions)\n",
    "        return mse\n",
    "\n",
    "    study = optuna.create_study(\n",
    "        pruner=optuna.pruners.MedianPruner(n_warmup_steps=5), direction=\"minimize\"\n",
    "    )\n",
    "    study.optimize(\n",
    "        objective,\n",
    "        n_trials=num_trials,\n",
    "        timeout=600,\n",
    "        callbacks=[],  # WeightsAndBiasesCallback(wandb_kwargs==wandb_kwargs) can be nice to use\n",
    "    )\n",
    "    model = CatBoostRegressor(\n",
    "        **study.best_params,\n",
    "        silent=True,\n",
    "    )\n",
    "\n",
    "    model.fit(train_data[0], train_data[1])\n",
    "\n",
    "    return model\n"
   ]
  },
  {
   "cell_type": "markdown",
   "metadata": {},
   "source": [
    "The following lines are solely for the purpose of debugging!\n"
   ]
  },
  {
   "cell_type": "code",
   "execution_count": 4,
   "metadata": {},
   "outputs": [
    {
     "name": "stderr",
     "output_type": "stream",
     "text": [
      "2022-08-04 15:27:15.742 | DEBUG    | mofdscribe.datasets.core_dataset:__init__:123 - Dropped 639 duplicate basenames. New length 8182\n",
      "2022-08-04 15:27:15.751 | DEBUG    | mofdscribe.datasets.core_dataset:__init__:129 - Dropped 1312 duplicate graphs. New length 6870\n",
      "2022-08-04 15:27:16.671 | DEBUG    | mofdscribe.datasets.core_dataset:__init__:123 - Dropped 639 duplicate basenames. New length 8182\n",
      "2022-08-04 15:27:16.682 | DEBUG    | mofdscribe.datasets.core_dataset:__init__:129 - Dropped 1312 duplicate graphs. New length 6870\n",
      "2022-08-04 15:27:16.704 | DEBUG    | mofdscribe.splitters.splitters:__init__:116 - Splitter settings | shuffle True, random state None, sample frac 1.0, q (0, 0.25, 0.5, 0.75, 1)\n"
     ]
    }
   ],
   "source": [
    "df = LogkHCO2OODBench(None)._ds._df\n"
   ]
  },
  {
   "cell_type": "code",
   "execution_count": 5,
   "metadata": {},
   "outputs": [],
   "source": [
    "part_1 = df.iloc[:100]\n",
    "part_2 = df.iloc[100:200]\n"
   ]
  },
  {
   "cell_type": "code",
   "execution_count": 6,
   "metadata": {},
   "outputs": [
    {
     "name": "stderr",
     "output_type": "stream",
     "text": [
      "\u001b[32m[I 2022-08-04 15:27:16,797]\u001b[0m A new study created in memory with name: no-name-ae210727-6a82-46ef-ad1a-cbbc2c7c86f1\u001b[0m\n",
      "\u001b[32m[I 2022-08-04 15:27:22,784]\u001b[0m Trial 0 finished with value: 0.8674590769964755 and parameters: {'colsample_bylevel': 0.07158822825029386, 'depth': 9, 'iterations': 2771, 'learning_rate': 0.10466163577655244, 'l2_leaf_reg': 6.870066951280304, 'random_strength': 8.041568108904727, 'bagging_temperature': 8.92881468725213}. Best is trial 0 with value: 0.8674590769964755.\u001b[0m\n",
      "\u001b[32m[I 2022-08-04 15:27:42,671]\u001b[0m Trial 1 finished with value: 0.938751858116806 and parameters: {'colsample_bylevel': 0.06842527731599611, 'depth': 12, 'iterations': 4813, 'learning_rate': 0.007537524931211579, 'l2_leaf_reg': 0.5540167619204627, 'random_strength': 7.528369762943663, 'bagging_temperature': 3.1143513700339427}. Best is trial 0 with value: 0.8674590769964755.\u001b[0m\n",
      "\u001b[32m[I 2022-08-04 15:27:46,900]\u001b[0m Trial 2 finished with value: 0.7908504336324068 and parameters: {'colsample_bylevel': 0.02010091323401532, 'depth': 15, 'iterations': 967, 'learning_rate': 0.23408026527294565, 'l2_leaf_reg': 0.7250206728222396, 'random_strength': 2.1961443017821543, 'bagging_temperature': 4.802582381062633}. Best is trial 2 with value: 0.7908504336324068.\u001b[0m\n",
      "\u001b[32m[I 2022-08-04 15:27:48,904]\u001b[0m Trial 3 finished with value: 0.9162196892546689 and parameters: {'colsample_bylevel': 0.04214086637691182, 'depth': 2, 'iterations': 9852, 'learning_rate': 0.08861900549290704, 'l2_leaf_reg': 3.552731578946295, 'random_strength': 2.6053125250471427, 'bagging_temperature': 5.345737175373366}. Best is trial 2 with value: 0.7908504336324068.\u001b[0m\n",
      "\u001b[32m[I 2022-08-04 15:27:54,205]\u001b[0m Trial 4 finished with value: 0.8697739508154925 and parameters: {'colsample_bylevel': 0.09348942526516954, 'depth': 6, 'iterations': 7381, 'learning_rate': 0.019589370363265968, 'l2_leaf_reg': 0.29513457621697664, 'random_strength': 1.3285615552195122, 'bagging_temperature': 8.549156239263823}. Best is trial 2 with value: 0.7908504336324068.\u001b[0m\n",
      "\u001b[32m[I 2022-08-04 15:28:04,891]\u001b[0m Trial 5 finished with value: 0.8979164821949525 and parameters: {'colsample_bylevel': 0.0908538777100193, 'depth': 13, 'iterations': 1364, 'learning_rate': 0.3030661024112914, 'l2_leaf_reg': 4.195341980011799, 'random_strength': 3.7664881760117823, 'bagging_temperature': 1.9185611651335122}. Best is trial 2 with value: 0.7908504336324068.\u001b[0m\n",
      "\u001b[32m[I 2022-08-04 15:28:06,107]\u001b[0m Trial 6 finished with value: 0.9542288987254891 and parameters: {'colsample_bylevel': 0.014481831258039996, 'depth': 4, 'iterations': 7247, 'learning_rate': 0.4881130249237565, 'l2_leaf_reg': 6.264553977086317, 'random_strength': 6.19229712246945, 'bagging_temperature': 9.468876488741452}. Best is trial 2 with value: 0.7908504336324068.\u001b[0m\n",
      "\u001b[32m[I 2022-08-04 15:28:10,367]\u001b[0m Trial 7 finished with value: 0.8568914108150534 and parameters: {'colsample_bylevel': 0.01602499557070026, 'depth': 11, 'iterations': 7436, 'learning_rate': 0.030923828772242597, 'l2_leaf_reg': 7.195699630597916, 'random_strength': 4.549178355809957, 'bagging_temperature': 6.063877492965131}. Best is trial 2 with value: 0.7908504336324068.\u001b[0m\n",
      "\u001b[32m[I 2022-08-04 15:28:12,122]\u001b[0m Trial 8 finished with value: 0.8869498054247253 and parameters: {'colsample_bylevel': 0.0318035460138397, 'depth': 3, 'iterations': 6018, 'learning_rate': 0.010403265561752964, 'l2_leaf_reg': 9.632846904840997, 'random_strength': 8.139690826736299, 'bagging_temperature': 3.6739787467299854}. Best is trial 2 with value: 0.7908504336324068.\u001b[0m\n",
      "\u001b[32m[I 2022-08-04 15:28:30,768]\u001b[0m Trial 9 finished with value: 0.8893439407693124 and parameters: {'colsample_bylevel': 0.06103977485508434, 'depth': 10, 'iterations': 9735, 'learning_rate': 0.0039160897254222615, 'l2_leaf_reg': 8.723853044426022, 'random_strength': 9.777943358818423, 'bagging_temperature': 9.364889919231713}. Best is trial 2 with value: 0.7908504336324068.\u001b[0m\n"
     ]
    }
   ],
   "source": [
    "model = tune((part_1[FEATURES], part_1[TARGET]), (part_2[FEATURES], part_2[TARGET]))\n"
   ]
  },
  {
   "cell_type": "markdown",
   "metadata": {},
   "source": [
    "This seems to work.\n"
   ]
  },
  {
   "cell_type": "markdown",
   "metadata": {},
   "source": [
    "Let's see how we implement this in a `MOFBench` class using a `mofdscribe` splitter.\n"
   ]
  },
  {
   "cell_type": "markdown",
   "metadata": {},
   "source": [
    "In this example we really want to avoid data leakage and hence will also use the `HashSplitter` in the inner loop.\n",
    "Doing so is relatively easy as we can construct new datasets that we can use in splitters using the `get_subset` method of the datasets.\n"
   ]
  },
  {
   "cell_type": "code",
   "execution_count": 13,
   "metadata": {},
   "outputs": [],
   "source": [
    "class MyCatBoostModel:\n",
    "    def __init__(self, features=FEATURES):\n",
    "        self.features = features\n",
    "        self.model = CatBoostRegressor()\n",
    "\n",
    "    def tune(self, idx, y):\n",
    "        tune_splitter = HashSplitter(self.ds.get_subset(idx))\n",
    "        # we will now use a simple split in two parts,\n",
    "        # however, you could also use a k-fold in the tune method\n",
    "        train_idx_, valid_idx_ = tune_splitter.train_test_split(0.7)\n",
    "        train_idx = idx[train_idx_]\n",
    "        valid_idx = idx[valid_idx_]\n",
    "        train_data = (self.ds._df.iloc[train_idx][self.features], y[train_idx_])\n",
    "        valid_data = (self.ds._df.iloc[valid_idx][self.features], y[valid_idx_])\n",
    "        self.model = tune(train_data, valid_data)\n",
    "\n",
    "    def fit(self, idx, structures, y):\n",
    "        self.tune(idx, y)\n",
    "        X = self.ds._df.iloc[idx][self.features]\n",
    "        self.model.fit(X, y)\n",
    "\n",
    "    def predict(self, idx, structures):\n",
    "        X = self.ds._df.iloc[idx][self.features]\n",
    "        pred = self.model.predict(X)\n",
    "        print(pred)\n",
    "        return pred\n"
   ]
  },
  {
   "cell_type": "code",
   "execution_count": 16,
   "metadata": {},
   "outputs": [
    {
     "name": "stderr",
     "output_type": "stream",
     "text": [
      "2022-08-04 15:44:19.025 | DEBUG    | mofdscribe.datasets.core_dataset:__init__:123 - Dropped 639 duplicate basenames. New length 8182\n",
      "2022-08-04 15:44:19.034 | DEBUG    | mofdscribe.datasets.core_dataset:__init__:129 - Dropped 1312 duplicate graphs. New length 6870\n",
      "2022-08-04 15:44:19.948 | DEBUG    | mofdscribe.datasets.core_dataset:__init__:123 - Dropped 639 duplicate basenames. New length 8182\n",
      "2022-08-04 15:44:19.959 | DEBUG    | mofdscribe.datasets.core_dataset:__init__:129 - Dropped 1312 duplicate graphs. New length 6870\n",
      "2022-08-04 15:44:19.981 | DEBUG    | mofdscribe.splitters.splitters:__init__:116 - Splitter settings | shuffle True, random state None, sample frac 0.01, q (0, 0.25, 0.5, 0.75, 1)\n"
     ]
    }
   ],
   "source": [
    "bench = LogkHCO2OODBench(\n",
    "    MyCatBoostModel(), name=\"my model\", features=\" ,\".join(FEATURES), patch_in_ds=True, debug=True\n",
    ")\n"
   ]
  },
  {
   "cell_type": "code",
   "execution_count": 17,
   "metadata": {},
   "outputs": [
    {
     "name": "stderr",
     "output_type": "stream",
     "text": [
      "2022-08-04 15:44:20.129 | DEBUG    | mofdscribe.bench.mofbench:_score:230 - K-fold round 0, 54 train points, 13 test points\n",
      "2022-08-04 15:44:21.065 | DEBUG    | mofdscribe.datasets.core_dataset:__init__:123 - Dropped 639 duplicate basenames. New length 8182\n",
      "2022-08-04 15:44:21.076 | DEBUG    | mofdscribe.datasets.core_dataset:__init__:129 - Dropped 1312 duplicate graphs. New length 6870\n",
      "2022-08-04 15:44:21.083 | DEBUG    | mofdscribe.splitters.splitters:__init__:116 - Splitter settings | shuffle True, random state None, sample frac 1.0, q (0, 0.25, 0.5, 0.75, 1)\n",
      "2022-08-04 15:44:21.084 | DEBUG    | mofdscribe.splitters.utils:check_fraction:429 - Using fractions: train: 0.7, valid: 0, test: 0.30000000000000004\n",
      "2022-08-04 15:44:21.084 | DEBUG    | mofdscribe.splitters.splitters:train_test_split:159 - Using grouped partition\n",
      "\u001b[32m[I 2022-08-04 15:44:21,086]\u001b[0m A new study created in memory with name: no-name-5816ed5a-12b7-49a3-87f8-80c6694becff\u001b[0m\n",
      "\u001b[32m[I 2022-08-04 15:44:22,559]\u001b[0m Trial 0 finished with value: 1.5184188517482504 and parameters: {'colsample_bylevel': 0.018889623616468804, 'depth': 8, 'iterations': 3410, 'learning_rate': 0.009531903223257311, 'l2_leaf_reg': 1.8239286270787374, 'random_strength': 0.35506325465591737, 'bagging_temperature': 6.577407144048756}. Best is trial 0 with value: 1.5184188517482504.\u001b[0m\n",
      "\u001b[32m[I 2022-08-04 15:44:25,076]\u001b[0m Trial 1 finished with value: 1.7253514471486973 and parameters: {'colsample_bylevel': 0.07856806405281096, 'depth': 4, 'iterations': 5998, 'learning_rate': 0.2659193228872567, 'l2_leaf_reg': 1.6150360810412765, 'random_strength': 8.367671014356088, 'bagging_temperature': 6.347130997303228}. Best is trial 0 with value: 1.5184188517482504.\u001b[0m\n",
      "\u001b[32m[I 2022-08-04 15:44:36,624]\u001b[0m Trial 2 finished with value: 1.3808627520440386 and parameters: {'colsample_bylevel': 0.03242535804041285, 'depth': 15, 'iterations': 6246, 'learning_rate': 0.17318221244373763, 'l2_leaf_reg': 7.869555897634878, 'random_strength': 2.635966131837462, 'bagging_temperature': 3.7929166414265056}. Best is trial 2 with value: 1.3808627520440386.\u001b[0m\n",
      "\u001b[32m[I 2022-08-04 15:44:44,535]\u001b[0m Trial 3 finished with value: 1.4324703335814233 and parameters: {'colsample_bylevel': 0.03174887956722597, 'depth': 16, 'iterations': 6244, 'learning_rate': 0.0021058863030304514, 'l2_leaf_reg': 9.350626547581781, 'random_strength': 3.4652707426645124, 'bagging_temperature': 7.413222224869198}. Best is trial 2 with value: 1.3808627520440386.\u001b[0m\n",
      "\u001b[32m[I 2022-08-04 15:44:45,862]\u001b[0m Trial 4 finished with value: 1.5424117382183593 and parameters: {'colsample_bylevel': 0.013913208137627227, 'depth': 7, 'iterations': 5503, 'learning_rate': 0.005131130657594875, 'l2_leaf_reg': 9.0365442469679, 'random_strength': 5.00075875036251, 'bagging_temperature': 8.300564911076476}. Best is trial 2 with value: 1.3808627520440386.\u001b[0m\n",
      "\u001b[32m[I 2022-08-04 15:44:47,837]\u001b[0m Trial 5 finished with value: 1.5323701267730876 and parameters: {'colsample_bylevel': 0.012647834744686772, 'depth': 11, 'iterations': 7100, 'learning_rate': 0.08799820565670952, 'l2_leaf_reg': 9.820907949717025, 'random_strength': 5.136924267956174, 'bagging_temperature': 6.418517675393227}. Best is trial 2 with value: 1.3808627520440386.\u001b[0m\n",
      "\u001b[32m[I 2022-08-04 15:44:48,360]\u001b[0m Trial 6 finished with value: 1.8399924105498198 and parameters: {'colsample_bylevel': 0.011681565678326981, 'depth': 1, 'iterations': 8606, 'learning_rate': 0.10156046468427689, 'l2_leaf_reg': 2.2576608090828465, 'random_strength': 0.13075897490900418, 'bagging_temperature': 3.1261378449357347}. Best is trial 2 with value: 1.3808627520440386.\u001b[0m\n",
      "\u001b[32m[I 2022-08-04 15:44:48,670]\u001b[0m Trial 7 finished with value: 1.4266540421490959 and parameters: {'colsample_bylevel': 0.046856633072094034, 'depth': 8, 'iterations': 310, 'learning_rate': 0.002969588414208903, 'l2_leaf_reg': 0.17990700361321724, 'random_strength': 6.718343525064666, 'bagging_temperature': 0.46615864171703275}. Best is trial 2 with value: 1.3808627520440386.\u001b[0m\n",
      "\u001b[32m[I 2022-08-04 15:45:01,415]\u001b[0m Trial 8 finished with value: 1.4123896037351569 and parameters: {'colsample_bylevel': 0.042040540922828565, 'depth': 13, 'iterations': 7935, 'learning_rate': 0.0018185230012246966, 'l2_leaf_reg': 6.6066948350311785, 'random_strength': 3.408769923702828, 'bagging_temperature': 6.048431948356739}. Best is trial 2 with value: 1.3808627520440386.\u001b[0m\n",
      "\u001b[32m[I 2022-08-04 15:45:09,788]\u001b[0m Trial 9 finished with value: 1.4785541692949025 and parameters: {'colsample_bylevel': 0.0637915190432203, 'depth': 14, 'iterations': 3420, 'learning_rate': 0.013576957192192339, 'l2_leaf_reg': 2.7786399611614407, 'random_strength': 8.059388378739747, 'bagging_temperature': 9.77175802849212}. Best is trial 2 with value: 1.3808627520440386.\u001b[0m\n",
      "2022-08-04 15:45:41.386 | DEBUG    | mofdscribe.bench.mofbench:_score:230 - K-fold round 1, 54 train points, 13 test points\n"
     ]
    },
    {
     "name": "stdout",
     "output_type": "stream",
     "text": [
      "[-3.61860741 -3.7046139  -3.58547182 -3.70272673 -2.78660819 -3.55187778\n",
      " -3.55935148 -3.41970087 -2.75539022 -3.68527742 -3.81238797 -3.19262452\n",
      " -3.13289448]\n"
     ]
    },
    {
     "name": "stderr",
     "output_type": "stream",
     "text": [
      "2022-08-04 15:45:42.364 | DEBUG    | mofdscribe.datasets.core_dataset:__init__:123 - Dropped 639 duplicate basenames. New length 8182\n",
      "2022-08-04 15:45:42.374 | DEBUG    | mofdscribe.datasets.core_dataset:__init__:129 - Dropped 1312 duplicate graphs. New length 6870\n",
      "2022-08-04 15:45:42.381 | DEBUG    | mofdscribe.splitters.splitters:__init__:116 - Splitter settings | shuffle True, random state None, sample frac 1.0, q (0, 0.25, 0.5, 0.75, 1)\n",
      "2022-08-04 15:45:42.381 | DEBUG    | mofdscribe.splitters.utils:check_fraction:429 - Using fractions: train: 0.7, valid: 0, test: 0.30000000000000004\n",
      "2022-08-04 15:45:42.382 | DEBUG    | mofdscribe.splitters.splitters:train_test_split:159 - Using grouped partition\n",
      "\u001b[32m[I 2022-08-04 15:45:42,384]\u001b[0m A new study created in memory with name: no-name-c05fbc0b-1c0b-4ea8-ac19-ec6f615ac4bd\u001b[0m\n",
      "\u001b[32m[I 2022-08-04 15:45:45,253]\u001b[0m Trial 0 finished with value: 0.7889371030146659 and parameters: {'colsample_bylevel': 0.02248339281894256, 'depth': 8, 'iterations': 5194, 'learning_rate': 0.07687148576751897, 'l2_leaf_reg': 7.074244117107132, 'random_strength': 4.250014446708891, 'bagging_temperature': 1.5948914007987574}. Best is trial 0 with value: 0.7889371030146659.\u001b[0m\n",
      "\u001b[32m[I 2022-08-04 15:45:56,129]\u001b[0m Trial 1 finished with value: 0.9067245387775467 and parameters: {'colsample_bylevel': 0.053902323749449456, 'depth': 10, 'iterations': 8055, 'learning_rate': 0.25554641923928123, 'l2_leaf_reg': 3.4732006487438927, 'random_strength': 2.3403656212676234, 'bagging_temperature': 3.5606109369306296}. Best is trial 0 with value: 0.7889371030146659.\u001b[0m\n",
      "\u001b[32m[I 2022-08-04 15:45:57,716]\u001b[0m Trial 2 finished with value: 0.9235130635621462 and parameters: {'colsample_bylevel': 0.04197868915704591, 'depth': 5, 'iterations': 3331, 'learning_rate': 0.0014106612142529703, 'l2_leaf_reg': 5.517402883070037, 'random_strength': 2.992418104147, 'bagging_temperature': 7.296445127276293}. Best is trial 0 with value: 0.7889371030146659.\u001b[0m\n",
      "\u001b[32m[I 2022-08-04 15:46:08,677]\u001b[0m Trial 3 finished with value: 0.8636915086767306 and parameters: {'colsample_bylevel': 0.07325966528475564, 'depth': 14, 'iterations': 5071, 'learning_rate': 0.00432106742750873, 'l2_leaf_reg': 6.26740320486058, 'random_strength': 0.48827853599494514, 'bagging_temperature': 0.4970989288581391}. Best is trial 0 with value: 0.7889371030146659.\u001b[0m\n",
      "\u001b[32m[I 2022-08-04 15:46:08,760]\u001b[0m Trial 4 finished with value: 0.765995040398299 and parameters: {'colsample_bylevel': 0.0678817659292243, 'depth': 2, 'iterations': 457, 'learning_rate': 0.1487623827110677, 'l2_leaf_reg': 3.252350052478492, 'random_strength': 1.509369421689585, 'bagging_temperature': 2.7112590760116464}. Best is trial 4 with value: 0.765995040398299.\u001b[0m\n",
      "\u001b[32m[I 2022-08-04 15:46:10,787]\u001b[0m Trial 5 finished with value: 0.8362970210988947 and parameters: {'colsample_bylevel': 0.010287383614858219, 'depth': 9, 'iterations': 9887, 'learning_rate': 0.009315237677325824, 'l2_leaf_reg': 1.4737645980925473, 'random_strength': 1.782350736171564, 'bagging_temperature': 7.786962217254311}. Best is trial 4 with value: 0.765995040398299.\u001b[0m\n",
      "\u001b[32m[I 2022-08-04 15:46:11,381]\u001b[0m Trial 6 finished with value: 0.7569041881127471 and parameters: {'colsample_bylevel': 0.02998386151067814, 'depth': 1, 'iterations': 8269, 'learning_rate': 0.2409067898917259, 'l2_leaf_reg': 5.763993160514981, 'random_strength': 7.663723088366486, 'bagging_temperature': 2.8613693352834857}. Best is trial 6 with value: 0.7569041881127471.\u001b[0m\n",
      "\u001b[32m[I 2022-08-04 15:46:14,422]\u001b[0m Trial 7 finished with value: 0.8576917628466972 and parameters: {'colsample_bylevel': 0.01872572576981262, 'depth': 12, 'iterations': 4961, 'learning_rate': 0.01581958127150181, 'l2_leaf_reg': 1.5241172397727063, 'random_strength': 0.5391031604633925, 'bagging_temperature': 5.453561526132761}. Best is trial 6 with value: 0.7569041881127471.\u001b[0m\n",
      "\u001b[32m[I 2022-08-04 15:46:14,629]\u001b[0m Trial 8 finished with value: 1.0356212794772923 and parameters: {'colsample_bylevel': 0.010002093566695718, 'depth': 8, 'iterations': 1550, 'learning_rate': 0.0021765966925061946, 'l2_leaf_reg': 8.528826940776066, 'random_strength': 6.365089193406665, 'bagging_temperature': 9.91812889770032}. Best is trial 6 with value: 0.7569041881127471.\u001b[0m\n",
      "\u001b[32m[I 2022-08-04 15:46:20,200]\u001b[0m Trial 9 finished with value: 0.8104121015363085 and parameters: {'colsample_bylevel': 0.02374061165969068, 'depth': 8, 'iterations': 9745, 'learning_rate': 0.003891379413696543, 'l2_leaf_reg': 6.363189829939829, 'random_strength': 2.0818545961971044, 'bagging_temperature': 4.809911715706867}. Best is trial 6 with value: 0.7569041881127471.\u001b[0m\n",
      "2022-08-04 15:46:21.806 | DEBUG    | mofdscribe.bench.mofbench:_score:230 - K-fold round 2, 54 train points, 13 test points\n"
     ]
    },
    {
     "name": "stdout",
     "output_type": "stream",
     "text": [
      "[-4.05266121 -3.23464762 -2.70226256 -2.82330667 -3.97407216 -2.20919676\n",
      " -2.30515831 -2.84212156 -3.12909018 -3.95068338 -2.08661299 -3.80340152\n",
      " -4.47927697]\n"
     ]
    },
    {
     "name": "stderr",
     "output_type": "stream",
     "text": [
      "2022-08-04 15:46:22.720 | DEBUG    | mofdscribe.datasets.core_dataset:__init__:123 - Dropped 639 duplicate basenames. New length 8182\n",
      "2022-08-04 15:46:22.730 | DEBUG    | mofdscribe.datasets.core_dataset:__init__:129 - Dropped 1312 duplicate graphs. New length 6870\n",
      "2022-08-04 15:46:22.737 | DEBUG    | mofdscribe.splitters.splitters:__init__:116 - Splitter settings | shuffle True, random state None, sample frac 1.0, q (0, 0.25, 0.5, 0.75, 1)\n",
      "2022-08-04 15:46:22.738 | DEBUG    | mofdscribe.splitters.utils:check_fraction:429 - Using fractions: train: 0.7, valid: 0, test: 0.30000000000000004\n",
      "2022-08-04 15:46:22.738 | DEBUG    | mofdscribe.splitters.splitters:train_test_split:159 - Using grouped partition\n",
      "\u001b[32m[I 2022-08-04 15:46:22,740]\u001b[0m A new study created in memory with name: no-name-5261ed92-d040-4ec7-ba6d-2b8904f78c64\u001b[0m\n",
      "\u001b[32m[I 2022-08-04 15:46:23,175]\u001b[0m Trial 0 finished with value: 0.9654515919255807 and parameters: {'colsample_bylevel': 0.01997304386801485, 'depth': 4, 'iterations': 2265, 'learning_rate': 0.019711489130209654, 'l2_leaf_reg': 0.33367560723190093, 'random_strength': 1.1066431867219124, 'bagging_temperature': 0.5064248675214705}. Best is trial 0 with value: 0.9654515919255807.\u001b[0m\n",
      "\u001b[32m[I 2022-08-04 15:46:23,979]\u001b[0m Trial 1 finished with value: 0.9500328718675046 and parameters: {'colsample_bylevel': 0.010845920595722508, 'depth': 12, 'iterations': 4456, 'learning_rate': 0.25837361991733504, 'l2_leaf_reg': 7.113845719504071, 'random_strength': 6.900806211241621, 'bagging_temperature': 0.3759006898029646}. Best is trial 1 with value: 0.9500328718675046.\u001b[0m\n",
      "\u001b[32m[I 2022-08-04 15:46:25,632]\u001b[0m Trial 2 finished with value: 0.9643456329608984 and parameters: {'colsample_bylevel': 0.015864138814537722, 'depth': 13, 'iterations': 3664, 'learning_rate': 0.042874352015767433, 'l2_leaf_reg': 5.280823208804748, 'random_strength': 5.730174862215834, 'bagging_temperature': 5.251673976581214}. Best is trial 1 with value: 0.9500328718675046.\u001b[0m\n",
      "\u001b[32m[I 2022-08-04 15:46:25,802]\u001b[0m Trial 3 finished with value: 0.997573475614294 and parameters: {'colsample_bylevel': 0.0119272762029356, 'depth': 1, 'iterations': 2895, 'learning_rate': 0.034608221621405234, 'l2_leaf_reg': 7.517845762145334, 'random_strength': 8.376033647732376, 'bagging_temperature': 9.938578556837298}. Best is trial 1 with value: 0.9500328718675046.\u001b[0m\n",
      "\u001b[32m[I 2022-08-04 15:46:25,929]\u001b[0m Trial 4 finished with value: 0.9524774622236986 and parameters: {'colsample_bylevel': 0.018294560229909638, 'depth': 1, 'iterations': 1699, 'learning_rate': 0.0526758534379345, 'l2_leaf_reg': 8.203729674054612, 'random_strength': 2.4821203551869173, 'bagging_temperature': 7.942347775458628}. Best is trial 1 with value: 0.9500328718675046.\u001b[0m\n",
      "\u001b[32m[I 2022-08-04 15:46:28,416]\u001b[0m Trial 5 finished with value: 0.9273688605222673 and parameters: {'colsample_bylevel': 0.017490310726812775, 'depth': 5, 'iterations': 9777, 'learning_rate': 0.020914808267028767, 'l2_leaf_reg': 9.336802854443015, 'random_strength': 6.6811282399746945, 'bagging_temperature': 5.839695314174243}. Best is trial 5 with value: 0.9273688605222673.\u001b[0m\n",
      "\u001b[32m[I 2022-08-04 15:46:28,553]\u001b[0m Trial 6 finished with value: 0.8539803771610699 and parameters: {'colsample_bylevel': 0.012231779225055812, 'depth': 1, 'iterations': 2526, 'learning_rate': 0.15008706649300532, 'l2_leaf_reg': 0.1669071403390752, 'random_strength': 6.255722696778821, 'bagging_temperature': 1.2526509800022014}. Best is trial 6 with value: 0.8539803771610699.\u001b[0m\n",
      "\u001b[32m[I 2022-08-04 15:46:28,658]\u001b[0m Trial 7 finished with value: 1.0122761177777098 and parameters: {'colsample_bylevel': 0.013314248940287958, 'depth': 15, 'iterations': 364, 'learning_rate': 0.027370583235118526, 'l2_leaf_reg': 1.627644646630132, 'random_strength': 7.423630482141499, 'bagging_temperature': 5.912089169318216}. Best is trial 6 with value: 0.8539803771610699.\u001b[0m\n",
      "\u001b[32m[I 2022-08-04 15:46:31,485]\u001b[0m Trial 8 finished with value: 0.8884895123731138 and parameters: {'colsample_bylevel': 0.08745679173943505, 'depth': 7, 'iterations': 3471, 'learning_rate': 0.06378220455735514, 'l2_leaf_reg': 8.031465771938855, 'random_strength': 0.22235241272546147, 'bagging_temperature': 1.5746069933556734}. Best is trial 6 with value: 0.8539803771610699.\u001b[0m\n",
      "\u001b[32m[I 2022-08-04 15:46:32,101]\u001b[0m Trial 9 finished with value: 0.9098356548909992 and parameters: {'colsample_bylevel': 0.015630730708657586, 'depth': 1, 'iterations': 9127, 'learning_rate': 0.36458761434841713, 'l2_leaf_reg': 9.073445122995183, 'random_strength': 5.495639605039682, 'bagging_temperature': 4.639780114481511}. Best is trial 6 with value: 0.8539803771610699.\u001b[0m\n",
      "2022-08-04 15:46:32.456 | DEBUG    | mofdscribe.bench.mofbench:_score:230 - K-fold round 3, 54 train points, 13 test points\n"
     ]
    },
    {
     "name": "stdout",
     "output_type": "stream",
     "text": [
      "[-3.04296752 -2.89693127 -3.12098484 -3.84862189 -2.25986282 -2.54504573\n",
      " -3.65971382 -2.2243226  -2.46030072 -2.64395391 -2.86685446 -3.71098824\n",
      " -3.94197044]\n"
     ]
    },
    {
     "name": "stderr",
     "output_type": "stream",
     "text": [
      "2022-08-04 15:46:33.374 | DEBUG    | mofdscribe.datasets.core_dataset:__init__:123 - Dropped 639 duplicate basenames. New length 8182\n",
      "2022-08-04 15:46:33.385 | DEBUG    | mofdscribe.datasets.core_dataset:__init__:129 - Dropped 1312 duplicate graphs. New length 6870\n",
      "2022-08-04 15:46:33.391 | DEBUG    | mofdscribe.splitters.splitters:__init__:116 - Splitter settings | shuffle True, random state None, sample frac 1.0, q (0, 0.25, 0.5, 0.75, 1)\n",
      "2022-08-04 15:46:33.391 | DEBUG    | mofdscribe.splitters.utils:check_fraction:429 - Using fractions: train: 0.7, valid: 0, test: 0.30000000000000004\n",
      "2022-08-04 15:46:33.392 | DEBUG    | mofdscribe.splitters.splitters:train_test_split:159 - Using grouped partition\n",
      "\u001b[32m[I 2022-08-04 15:46:33,393]\u001b[0m A new study created in memory with name: no-name-12d0e11d-eb5a-41f0-b63e-2134eb4ae2cb\u001b[0m\n",
      "\u001b[32m[I 2022-08-04 15:46:41,254]\u001b[0m Trial 0 finished with value: 2.7885410941153683 and parameters: {'colsample_bylevel': 0.023727644142140212, 'depth': 15, 'iterations': 6849, 'learning_rate': 0.22713652762415637, 'l2_leaf_reg': 6.73765701485301, 'random_strength': 3.546079595448144, 'bagging_temperature': 2.8593923620972856}. Best is trial 0 with value: 2.7885410941153683.\u001b[0m\n",
      "\u001b[32m[I 2022-08-04 15:46:43,795]\u001b[0m Trial 1 finished with value: 2.7344972997780213 and parameters: {'colsample_bylevel': 0.0681422065128034, 'depth': 6, 'iterations': 3768, 'learning_rate': 0.17267298987551463, 'l2_leaf_reg': 9.710652744247202, 'random_strength': 8.597488022865853, 'bagging_temperature': 9.559338789999705}. Best is trial 1 with value: 2.7344972997780213.\u001b[0m\n",
      "\u001b[32m[I 2022-08-04 15:46:45,366]\u001b[0m Trial 2 finished with value: 3.11421963355869 and parameters: {'colsample_bylevel': 0.033798382079650344, 'depth': 8, 'iterations': 1778, 'learning_rate': 0.41346153463340013, 'l2_leaf_reg': 4.5486153347344045, 'random_strength': 4.004670285867252, 'bagging_temperature': 8.175178285778552}. Best is trial 1 with value: 2.7344972997780213.\u001b[0m\n",
      "\u001b[32m[I 2022-08-04 15:46:52,132]\u001b[0m Trial 3 finished with value: 2.6175407380486027 and parameters: {'colsample_bylevel': 0.07310603481694702, 'depth': 16, 'iterations': 2842, 'learning_rate': 0.11999889824684236, 'l2_leaf_reg': 8.410909641921506, 'random_strength': 9.537660780457498, 'bagging_temperature': 4.558943294048517}. Best is trial 3 with value: 2.6175407380486027.\u001b[0m\n",
      "\u001b[32m[I 2022-08-04 15:46:52,760]\u001b[0m Trial 4 finished with value: 2.5374540447889786 and parameters: {'colsample_bylevel': 0.013548655648172151, 'depth': 3, 'iterations': 5027, 'learning_rate': 0.0018726029133427533, 'l2_leaf_reg': 1.295218373653692, 'random_strength': 8.550422224268615, 'bagging_temperature': 3.7515168369647425}. Best is trial 4 with value: 2.5374540447889786.\u001b[0m\n",
      "\u001b[32m[I 2022-08-04 15:46:54,740]\u001b[0m Trial 5 finished with value: 2.5326987748872165 and parameters: {'colsample_bylevel': 0.013138958085785581, 'depth': 10, 'iterations': 7498, 'learning_rate': 0.08943173666805931, 'l2_leaf_reg': 5.810638761810259, 'random_strength': 7.200724247197088, 'bagging_temperature': 4.3961697806258915}. Best is trial 5 with value: 2.5326987748872165.\u001b[0m\n",
      "\u001b[32m[I 2022-08-04 15:46:55,071]\u001b[0m Trial 6 finished with value: 2.2634181583673847 and parameters: {'colsample_bylevel': 0.011530061298676451, 'depth': 1, 'iterations': 6369, 'learning_rate': 0.45385450591775756, 'l2_leaf_reg': 5.131186132432373, 'random_strength': 6.068886121940277, 'bagging_temperature': 1.850906612022182}. Best is trial 6 with value: 2.2634181583673847.\u001b[0m\n",
      "\u001b[32m[I 2022-08-04 15:46:55,279]\u001b[0m Trial 7 finished with value: 2.742704122641546 and parameters: {'colsample_bylevel': 0.011335325038578427, 'depth': 1, 'iterations': 3477, 'learning_rate': 0.010427542236823097, 'l2_leaf_reg': 0.17433393869198893, 'random_strength': 4.684471904184105, 'bagging_temperature': 2.3281280829340076}. Best is trial 6 with value: 2.2634181583673847.\u001b[0m\n",
      "\u001b[32m[I 2022-08-04 15:46:57,655]\u001b[0m Trial 8 finished with value: 2.5705278947085133 and parameters: {'colsample_bylevel': 0.014922895394485675, 'depth': 7, 'iterations': 9572, 'learning_rate': 0.0013262758267721397, 'l2_leaf_reg': 7.342043350147755, 'random_strength': 2.3741085604776058, 'bagging_temperature': 9.486559649310083}. Best is trial 6 with value: 2.2634181583673847.\u001b[0m\n",
      "\u001b[32m[I 2022-08-04 15:47:14,561]\u001b[0m Trial 9 finished with value: 2.6040529764733362 and parameters: {'colsample_bylevel': 0.04291352499402574, 'depth': 15, 'iterations': 9031, 'learning_rate': 0.010745205559311485, 'l2_leaf_reg': 6.941476632854383, 'random_strength': 1.3327775803178732, 'bagging_temperature': 1.5981463382150236}. Best is trial 6 with value: 2.2634181583673847.\u001b[0m\n",
      "2022-08-04 15:47:15.365 | DEBUG    | mofdscribe.bench.mofbench:_score:230 - K-fold round 4, 54 train points, 13 test points\n"
     ]
    },
    {
     "name": "stdout",
     "output_type": "stream",
     "text": [
      "[-2.85757107 -3.41350249 -3.2915807  -3.11396472 -3.07865049 -3.29083662\n",
      " -3.52789152 -3.88830457 -3.71440638 -2.7160054  -4.1858231  -3.63144649\n",
      " -4.22562457]\n"
     ]
    },
    {
     "name": "stderr",
     "output_type": "stream",
     "text": [
      "2022-08-04 15:47:16.250 | DEBUG    | mofdscribe.datasets.core_dataset:__init__:123 - Dropped 639 duplicate basenames. New length 8182\n",
      "2022-08-04 15:47:16.260 | DEBUG    | mofdscribe.datasets.core_dataset:__init__:129 - Dropped 1312 duplicate graphs. New length 6870\n",
      "2022-08-04 15:47:16.267 | DEBUG    | mofdscribe.splitters.splitters:__init__:116 - Splitter settings | shuffle True, random state None, sample frac 1.0, q (0, 0.25, 0.5, 0.75, 1)\n",
      "2022-08-04 15:47:16.267 | DEBUG    | mofdscribe.splitters.utils:check_fraction:429 - Using fractions: train: 0.7, valid: 0, test: 0.30000000000000004\n",
      "2022-08-04 15:47:16.267 | DEBUG    | mofdscribe.splitters.splitters:train_test_split:159 - Using grouped partition\n",
      "\u001b[32m[I 2022-08-04 15:47:16,269]\u001b[0m A new study created in memory with name: no-name-15d399fe-cf5d-49b7-a2c9-4b204cd9ea51\u001b[0m\n",
      "\u001b[32m[I 2022-08-04 15:47:16,514]\u001b[0m Trial 0 finished with value: 0.6991815496444341 and parameters: {'colsample_bylevel': 0.022695129195569888, 'depth': 1, 'iterations': 3102, 'learning_rate': 0.0020915831672356938, 'l2_leaf_reg': 7.245115242739913, 'random_strength': 1.9728367422668087, 'bagging_temperature': 0.07031088114108726}. Best is trial 0 with value: 0.6991815496444341.\u001b[0m\n",
      "\u001b[32m[I 2022-08-04 15:47:16,813]\u001b[0m Trial 1 finished with value: 0.732775721638444 and parameters: {'colsample_bylevel': 0.02112524074490076, 'depth': 5, 'iterations': 956, 'learning_rate': 0.06897663325448328, 'l2_leaf_reg': 9.329695478770715, 'random_strength': 5.888503225309878, 'bagging_temperature': 3.7379267378690915}. Best is trial 0 with value: 0.6991815496444341.\u001b[0m\n",
      "\u001b[32m[I 2022-08-04 15:47:19,075]\u001b[0m Trial 2 finished with value: 0.7168836567270155 and parameters: {'colsample_bylevel': 0.06472241229908897, 'depth': 8, 'iterations': 2077, 'learning_rate': 0.04325204315445497, 'l2_leaf_reg': 8.607061088530598, 'random_strength': 7.077255334643733, 'bagging_temperature': 3.4430420375928494}. Best is trial 0 with value: 0.6991815496444341.\u001b[0m\n",
      "\u001b[32m[I 2022-08-04 15:47:25,488]\u001b[0m Trial 3 finished with value: 0.7582000862002632 and parameters: {'colsample_bylevel': 0.04915284741306615, 'depth': 11, 'iterations': 3921, 'learning_rate': 0.06972747464439379, 'l2_leaf_reg': 5.642460811114918, 'random_strength': 6.334954843469647, 'bagging_temperature': 8.369824531730801}. Best is trial 0 with value: 0.6991815496444341.\u001b[0m\n",
      "\u001b[32m[I 2022-08-04 15:47:33,477]\u001b[0m Trial 4 finished with value: 0.69809870921599 and parameters: {'colsample_bylevel': 0.041989462879377236, 'depth': 15, 'iterations': 4906, 'learning_rate': 0.11047973127266177, 'l2_leaf_reg': 2.545984689857374, 'random_strength': 0.638896286688503, 'bagging_temperature': 8.822680766891079}. Best is trial 4 with value: 0.69809870921599.\u001b[0m\n",
      "\u001b[32m[I 2022-08-04 15:47:35,039]\u001b[0m Trial 5 finished with value: 0.7617950595171117 and parameters: {'colsample_bylevel': 0.012852265148377338, 'depth': 10, 'iterations': 6473, 'learning_rate': 0.048069431971000776, 'l2_leaf_reg': 6.040589023514179, 'random_strength': 7.254780197294346, 'bagging_temperature': 3.764158882800813}. Best is trial 4 with value: 0.69809870921599.\u001b[0m\n",
      "\u001b[32m[I 2022-08-04 15:47:36,783]\u001b[0m Trial 6 finished with value: 0.6950746773006375 and parameters: {'colsample_bylevel': 0.017959717080215758, 'depth': 4, 'iterations': 8825, 'learning_rate': 0.0019045960087600417, 'l2_leaf_reg': 0.7719303391727448, 'random_strength': 9.513958529311905, 'bagging_temperature': 5.42957852072627}. Best is trial 6 with value: 0.6950746773006375.\u001b[0m\n",
      "\u001b[32m[I 2022-08-04 15:47:37,877]\u001b[0m Trial 7 finished with value: 0.6475154414713136 and parameters: {'colsample_bylevel': 0.0187405678187496, 'depth': 11, 'iterations': 2001, 'learning_rate': 0.3673180109512132, 'l2_leaf_reg': 3.9083638194661225, 'random_strength': 9.104840695066846, 'bagging_temperature': 7.71222325549219}. Best is trial 7 with value: 0.6475154414713136.\u001b[0m\n",
      "\u001b[32m[I 2022-08-04 15:47:39,453]\u001b[0m Trial 8 finished with value: 0.6930983333080369 and parameters: {'colsample_bylevel': 0.012190382500924543, 'depth': 12, 'iterations': 5016, 'learning_rate': 0.0034702047890854634, 'l2_leaf_reg': 0.7999832742292209, 'random_strength': 6.842709434889837, 'bagging_temperature': 5.6299019741282965}. Best is trial 7 with value: 0.6475154414713136.\u001b[0m\n",
      "\u001b[32m[I 2022-08-04 15:47:39,735]\u001b[0m Trial 9 finished with value: 0.841320564878749 and parameters: {'colsample_bylevel': 0.036869896774690186, 'depth': 3, 'iterations': 1184, 'learning_rate': 0.12106723960147038, 'l2_leaf_reg': 0.642818056112463, 'random_strength': 0.746080486874999, 'bagging_temperature': 5.891844444970319}. Best is trial 7 with value: 0.6475154414713136.\u001b[0m\n"
     ]
    },
    {
     "name": "stdout",
     "output_type": "stream",
     "text": [
      "[-3.32927013 -3.23669601 -3.58300431 -3.47583225 -3.04673094 -2.84378802\n",
      " -3.32928865 -3.3407119  -2.39338696 -3.45640047 -3.45613196 -3.49974492\n",
      " -3.95592873]\n"
     ]
    }
   ],
   "source": [
    "result = bench.bench()\n"
   ]
  },
  {
   "cell_type": "code",
   "execution_count": null,
   "metadata": {},
   "outputs": [],
   "source": []
  },
  {
   "cell_type": "code",
   "execution_count": 18,
   "metadata": {},
   "outputs": [
    {
     "data": {
      "text/plain": [
       "BenchResult(start_time=datetime.datetime(2022, 8, 4, 13, 44, 20, 126292, tzinfo=datetime.timezone.utc), end_time=datetime.datetime(2022, 8, 4, 13, 47, 42, 220544, tzinfo=datetime.timezone.utc), metrics=RegressionMetricCollection(regression_metrics=[RegressionMetrics(mean_squared_error=1.324773649885319, mean_absolute_error=0.8438648987836127, r2_score=0.11883897879823824, max_error=2.611841211766282, mean_absolute_percentage_error=0.40289237423713364, top_5_in_top_5=0, top_10_in_top_10=1, top_50_in_top_50=1, top_100_in_top_100=1, top_500_in_top_500=1), RegressionMetrics(mean_squared_error=1.1322879159369008, mean_absolute_error=0.8708695405334369, r2_score=-1.0910638475959717, max_error=2.054046702028823, mean_absolute_percentage_error=0.2462515188629681, top_5_in_top_5=0, top_10_in_top_10=0, top_50_in_top_50=1, top_100_in_top_100=1, top_500_in_top_500=1), RegressionMetrics(mean_squared_error=0.6836588649093175, mean_absolute_error=0.6745806377610815, r2_score=0.3266337006687946, max_error=1.8522609610315337, mean_absolute_percentage_error=0.2331800129001227, top_5_in_top_5=0, top_10_in_top_10=1, top_50_in_top_50=1, top_100_in_top_100=1, top_500_in_top_500=1), RegressionMetrics(mean_squared_error=0.419436529457117, mean_absolute_error=0.5324161111108172, r2_score=-0.26987068560205874, max_error=1.3145483982585398, mean_absolute_percentage_error=0.15880628767045823, top_5_in_top_5=1, top_10_in_top_10=1, top_50_in_top_50=1, top_100_in_top_100=1, top_500_in_top_500=1), RegressionMetrics(mean_squared_error=2.6641007376599695, mean_absolute_error=1.4820493501213614, r2_score=-0.11038064984790541, max_error=2.2857631978873774, mean_absolute_percentage_error=0.7923884952747992, top_5_in_top_5=1, top_10_in_top_10=1, top_50_in_top_50=1, top_100_in_top_100=1, top_500_in_top_500=1)], fit_timings=[81.2497627735138, 40.41386795043945, 10.644263982772827, 42.90207505226135, 26.847751140594482], inference_timings=[0.005924224853515625, 0.004528999328613281, 0.004127979278564453, 0.004592180252075195, 0.005810976028442383]), version='v0.0.1', features='total_POV_gravimetric ,mc_CRY-chi-0-all ,mc_CRY-chi-1-all ,mc_CRY-chi-2-all ,mc_CRY-chi-3-all ,mc_CRY-Z-0-all ,mc_CRY-Z-1-all ,mc_CRY-Z-2-all ,mc_CRY-Z-3-all ,mc_CRY-I-0-all ,mc_CRY-I-1-all ,mc_CRY-I-2-all ,mc_CRY-I-3-all ,mc_CRY-T-0-all ,mc_CRY-T-1-all ,mc_CRY-T-2-all ,mc_CRY-T-3-all ,mc_CRY-S-0-all ,mc_CRY-S-1-all ,mc_CRY-S-2-all ,mc_CRY-S-3-all ,D_mc_CRY-chi-0-all ,D_mc_CRY-chi-1-all ,D_mc_CRY-chi-2-all ,D_mc_CRY-chi-3-all ,D_mc_CRY-Z-0-all ,D_mc_CRY-Z-1-all ,D_mc_CRY-Z-2-all ,D_mc_CRY-Z-3-all ,D_mc_CRY-I-0-all ,D_mc_CRY-I-1-all ,D_mc_CRY-I-2-all ,D_mc_CRY-I-3-all ,D_mc_CRY-T-0-all ,D_mc_CRY-T-1-all ,D_mc_CRY-T-2-all ,D_mc_CRY-T-3-all ,D_mc_CRY-S-0-all ,D_mc_CRY-S-1-all ,D_mc_CRY-S-2-all ,D_mc_CRY-S-3-all ,sum-mc_CRY-chi-0-all ,sum-mc_CRY-chi-1-all ,sum-mc_CRY-chi-2-all ,sum-mc_CRY-chi-3-all ,sum-mc_CRY-Z-0-all ,sum-mc_CRY-Z-1-all ,sum-mc_CRY-Z-2-all ,sum-mc_CRY-Z-3-all ,sum-mc_CRY-I-0-all ,sum-mc_CRY-I-1-all ,sum-mc_CRY-I-2-all ,sum-mc_CRY-I-3-all ,sum-mc_CRY-T-0-all ,sum-mc_CRY-T-1-all ,sum-mc_CRY-T-2-all ,sum-mc_CRY-T-3-all ,sum-mc_CRY-S-0-all ,sum-mc_CRY-S-1-all ,sum-mc_CRY-S-2-all ,sum-mc_CRY-S-3-all ,sum-D_mc_CRY-chi-0-all ,sum-D_mc_CRY-chi-1-all ,sum-D_mc_CRY-chi-2-all ,sum-D_mc_CRY-chi-3-all ,sum-D_mc_CRY-Z-0-all ,sum-D_mc_CRY-Z-1-all ,sum-D_mc_CRY-Z-2-all ,sum-D_mc_CRY-Z-3-all ,sum-D_mc_CRY-I-0-all ,sum-D_mc_CRY-I-1-all ,sum-D_mc_CRY-I-2-all ,sum-D_mc_CRY-I-3-all ,sum-D_mc_CRY-T-0-all ,sum-D_mc_CRY-T-1-all ,sum-D_mc_CRY-T-2-all ,sum-D_mc_CRY-T-3-all ,sum-D_mc_CRY-S-0-all ,sum-D_mc_CRY-S-1-all ,sum-D_mc_CRY-S-2-all ,sum-D_mc_CRY-S-3-all ,D_lc-chi-0-all ,D_lc-chi-1-all ,D_lc-chi-2-all ,D_lc-chi-3-all ,D_lc-Z-0-all ,D_lc-Z-1-all ,D_lc-Z-2-all ,D_lc-Z-3-all ,D_lc-I-0-all ,D_lc-I-1-all ,D_lc-I-2-all ,D_lc-I-3-all ,D_lc-T-0-all ,D_lc-T-1-all ,D_lc-T-2-all ,D_lc-T-3-all ,D_lc-S-0-all ,D_lc-S-1-all ,D_lc-S-2-all ,D_lc-S-3-all ,D_lc-alpha-0-all ,D_lc-alpha-1-all ,D_lc-alpha-2-all ,D_lc-alpha-3-all ,D_func-chi-0-all ,D_func-chi-1-all ,D_func-chi-2-all ,D_func-chi-3-all ,D_func-Z-0-all ,D_func-Z-1-all ,D_func-Z-2-all ,D_func-Z-3-all ,D_func-I-0-all ,D_func-I-1-all ,D_func-I-2-all ,D_func-I-3-all ,D_func-T-0-all ,D_func-T-1-all ,D_func-T-2-all ,D_func-T-3-all ,D_func-S-0-all ,D_func-S-1-all ,D_func-S-2-all ,D_func-S-3-all ,D_func-alpha-0-all ,D_func-alpha-1-all ,D_func-alpha-2-all ,D_func-alpha-3-all ,sum-D_lc-chi-0-all ,sum-D_lc-chi-1-all ,sum-D_lc-chi-2-all ,sum-D_lc-chi-3-all ,sum-D_lc-Z-0-all ,sum-D_lc-Z-1-all ,sum-D_lc-Z-2-all ,sum-D_lc-Z-3-all ,sum-D_lc-I-0-all ,sum-D_lc-I-1-all ,sum-D_lc-I-2-all ,sum-D_lc-I-3-all ,sum-D_lc-T-0-all ,sum-D_lc-T-1-all ,sum-D_lc-T-2-all ,sum-D_lc-T-3-all ,sum-D_lc-S-0-all ,sum-D_lc-S-1-all ,sum-D_lc-S-2-all ,sum-D_lc-S-3-all ,sum-D_lc-alpha-0-all ,sum-D_lc-alpha-1-all ,sum-D_lc-alpha-2-all ,sum-D_lc-alpha-3-all ,sum-D_func-chi-0-all ,sum-D_func-chi-1-all ,sum-D_func-chi-2-all ,sum-D_func-chi-3-all ,sum-D_func-Z-0-all ,sum-D_func-Z-1-all ,sum-D_func-Z-2-all ,sum-D_func-Z-3-all ,sum-D_func-I-0-all ,sum-D_func-I-1-all ,sum-D_func-I-2-all ,sum-D_func-I-3-all ,sum-D_func-T-0-all ,sum-D_func-T-1-all ,sum-D_func-T-2-all ,sum-D_func-T-3-all ,sum-D_func-S-0-all ,sum-D_func-S-1-all ,sum-D_func-S-2-all ,sum-D_func-S-3-all ,sum-D_func-alpha-0-all ,sum-D_func-alpha-1-all ,sum-D_func-alpha-2-all ,sum-D_func-alpha-3-all', name='my model', task=<BenchTaskEnum.logKH_CO2_ext: 'logKH_CO2_ood'>, model_type=None, reference=None, implementation=None, mofdscribe_version='0.0.1-dev')"
      ]
     },
     "execution_count": 18,
     "metadata": {},
     "output_type": "execute_result"
    }
   ],
   "source": [
    "result"
   ]
  },
  {
   "cell_type": "markdown",
   "metadata": {},
   "source": [
    "Now, as it ran sucessfully using `debug=True`, we can try a full run."
   ]
  },
  {
   "cell_type": "code",
   "execution_count": 20,
   "metadata": {},
   "outputs": [
    {
     "name": "stderr",
     "output_type": "stream",
     "text": [
      "2022-08-04 15:52:14.919 | DEBUG    | mofdscribe.datasets.core_dataset:__init__:123 - Dropped 639 duplicate basenames. New length 8182\n",
      "2022-08-04 15:52:14.929 | DEBUG    | mofdscribe.datasets.core_dataset:__init__:129 - Dropped 1312 duplicate graphs. New length 6870\n",
      "2022-08-04 15:52:15.854 | DEBUG    | mofdscribe.datasets.core_dataset:__init__:123 - Dropped 639 duplicate basenames. New length 8182\n",
      "2022-08-04 15:52:15.864 | DEBUG    | mofdscribe.datasets.core_dataset:__init__:129 - Dropped 1312 duplicate graphs. New length 6870\n",
      "2022-08-04 15:52:15.886 | DEBUG    | mofdscribe.splitters.splitters:__init__:116 - Splitter settings | shuffle True, random state None, sample frac 1.0, q (0, 0.25, 0.5, 0.75, 1)\n"
     ]
    }
   ],
   "source": [
    "bench = LogkHCO2OODBench(\n",
    "    MyCatBoostModel(), name=\"my model\", features=\" ,\".join(FEATURES), patch_in_ds=True, debug=False\n",
    ")\n"
   ]
  },
  {
   "cell_type": "code",
   "execution_count": 21,
   "metadata": {},
   "outputs": [
    {
     "name": "stderr",
     "output_type": "stream",
     "text": [
      "2022-08-04 15:52:18.408 | DEBUG    | mofdscribe.bench.mofbench:_score:230 - K-fold round 0, 5493 train points, 1377 test points\n",
      "2022-08-04 15:52:19.287 | DEBUG    | mofdscribe.datasets.core_dataset:__init__:123 - Dropped 639 duplicate basenames. New length 8182\n",
      "2022-08-04 15:52:19.298 | DEBUG    | mofdscribe.datasets.core_dataset:__init__:129 - Dropped 1312 duplicate graphs. New length 6870\n",
      "2022-08-04 15:52:19.326 | DEBUG    | mofdscribe.splitters.splitters:__init__:116 - Splitter settings | shuffle True, random state None, sample frac 1.0, q (0, 0.25, 0.5, 0.75, 1)\n",
      "2022-08-04 15:52:19.327 | DEBUG    | mofdscribe.splitters.utils:check_fraction:429 - Using fractions: train: 0.7, valid: 0, test: 0.30000000000000004\n",
      "2022-08-04 15:52:19.328 | DEBUG    | mofdscribe.splitters.splitters:train_test_split:159 - Using grouped partition\n",
      "\u001b[32m[I 2022-08-04 15:52:19,554]\u001b[0m A new study created in memory with name: no-name-a1e4899d-69c8-442d-ae00-e80e04770f2f\u001b[0m\n"
     ]
    }
   ],
   "source": [
    "result = bench.bench()"
   ]
  },
  {
   "cell_type": "code",
   "execution_count": null,
   "metadata": {},
   "outputs": [],
   "source": []
  }
 ],
 "metadata": {
  "kernelspec": {
   "display_name": "Python 3.8.13 ('mofdscribe')",
   "language": "python",
   "name": "python3"
  },
  "language_info": {
   "codemirror_mode": {
    "name": "ipython",
    "version": 3
   },
   "file_extension": ".py",
   "mimetype": "text/x-python",
   "name": "python",
   "nbconvert_exporter": "python",
   "pygments_lexer": "ipython3",
   "version": "3.8.13"
  },
  "orig_nbformat": 4,
  "vscode": {
   "interpreter": {
    "hash": "3ffc06f754d7c80b59e39914e7792f1f92938dc6ca13a8ff96847f8f4d27fee3"
   }
  }
 },
 "nbformat": 4,
 "nbformat_minor": 2
}
