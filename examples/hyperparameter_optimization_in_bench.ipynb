{
 "cells": [
  {
   "cell_type": "markdown",
   "metadata": {},
   "source": [
    "# Performing hyperparameter optimization in the bench class"
   ]
  },
  {
   "cell_type": "markdown",
   "metadata": {},
   "source": [
    "For this example we will use a model that consumes pre-computed features. \n",
    "We will use [CatBoost](https://catboost.ai/) which you need to install separately (e.g. using `pip install catboost`).\n",
    "\n",
    "We will use [Optuna](https://optuna.org/) for hyperparameter optimization."
   ]
  },
  {
   "cell_type": "code",
   "execution_count": 3,
   "metadata": {},
   "outputs": [],
   "source": [
    "from catboost import CatBoostRegressor\n",
    "from mofdscribe.bench import PBEBandGapIDBench\n",
    "from mofdscribe.bench.df_model import DFModel\n",
    "from sklearn.metrics import mean_squared_error\n",
    "import optuna"
   ]
  },
  {
   "cell_type": "markdown",
   "metadata": {},
   "source": [
    "## Make sure we can make it work outside MOFBench"
   ]
  },
  {
   "cell_type": "code",
   "execution_count": 5,
   "metadata": {},
   "outputs": [],
   "source": [
    "def tune(train_data, valid_data, num_trials=10):\n",
    "    def objective(trial):\n",
    "        param = {\n",
    "            \"colsample_bylevel\": trial.suggest_float(\"colsample_bylevel\", 0.01, 0.1, log=True),\n",
    "            \"depth\": trial.suggest_int(\"depth\", 1, 16),\n",
    "            \"iterations\": trial.suggest_int(\"iterations\", 1, 10000),\n",
    "            \"learning_rate\": trial.suggest_float(\"learning_rate\", 0.001, 0.5, log=True),\n",
    "            \"l2_leaf_reg\": trial.suggest_float(\"l2_leaf_reg\", 0.01, 10),\n",
    "            \"random_strength\": trial.suggest_float(\"random_strength\", 0.01, 10),\n",
    "            \"bagging_temperature\": trial.suggest_float(\"bagging_temperature\", 0.01, 10),\n",
    "        }\n",
    "        model = CatBoostRegressor(\n",
    "            **param,\n",
    "            silent=True,\n",
    "        )\n",
    "        model.train(train_data[0], train_data[1])\n",
    "\n",
    "        predictions = model.predict(valid_data[0])\n",
    "        mse = mean_squared_error(valid_data[1], predictions)\n",
    "        return mse\n",
    "\n",
    "    study = optuna.create_study(\n",
    "        pruner=optuna.pruners.MedianPruner(n_warmup_steps=5), direction=\"minimize\"\n",
    "    )\n",
    "    study.optimize(\n",
    "        objective,\n",
    "        n_trials=num_trials,\n",
    "        timeout=600,\n",
    "        callbacks=[], # WeightsAndBiasesCallback(wandb_kwargs==wandb_kwargs) can be nice to use\n",
    "    )\n",
    "    model = CatBoostRegressor(\n",
    "        **study.best_params,\n",
    "        silent=True,\n",
    "    )\n",
    "\n",
    "    model.fit(train_data[0], train_data[1])\n",
    "\n",
    "    return model "
   ]
  },
  {
   "cell_type": "code",
   "execution_count": null,
   "metadata": {},
   "outputs": [],
   "source": []
  }
 ],
 "metadata": {
  "kernelspec": {
   "display_name": "Python 3.8.13 ('mofdscribe')",
   "language": "python",
   "name": "python3"
  },
  "language_info": {
   "codemirror_mode": {
    "name": "ipython",
    "version": 3
   },
   "file_extension": ".py",
   "mimetype": "text/x-python",
   "name": "python",
   "nbconvert_exporter": "python",
   "pygments_lexer": "ipython3",
   "version": "3.8.13"
  },
  "orig_nbformat": 4,
  "vscode": {
   "interpreter": {
    "hash": "3ffc06f754d7c80b59e39914e7792f1f92938dc6ca13a8ff96847f8f4d27fee3"
   }
  }
 },
 "nbformat": 4,
 "nbformat_minor": 2
}
