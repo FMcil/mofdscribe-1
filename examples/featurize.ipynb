{
 "cells": [
  {
   "cell_type": "markdown",
   "metadata": {},
   "source": [
    "# Basic featurization"
   ]
  },
  {
   "cell_type": "code",
   "execution_count": 8,
   "metadata": {},
   "outputs": [],
   "source": [
    "from mofdscribe.datasets import CoREDataset\n",
    "\n",
    "from mofdscribe.featurizers.chemistry import RACS, APRDF, AMD\n",
    "from mofdscribe.featurizers.topology import PHStats, PHHist\n",
    "\n",
    "from matminer.featurizers.base import MultipleFeaturizer\n",
    "\n",
    "import pandas as pd"
   ]
  },
  {
   "cell_type": "code",
   "execution_count": 4,
   "metadata": {},
   "outputs": [
    {
     "name": "stderr",
     "output_type": "stream",
     "text": [
      "2022-08-02 11:13:06.784 | DEBUG    | mofdscribe.datasets.core_dataset:__init__:118 - Dropped 639 duplicate basenames. New length 8182\n",
      "2022-08-02 11:13:06.794 | DEBUG    | mofdscribe.datasets.core_dataset:__init__:124 - Dropped 1312 duplicate graphs. New length 6870\n"
     ]
    }
   ],
   "source": [
    "ds = CoREDataset()"
   ]
  },
  {
   "cell_type": "markdown",
   "metadata": {},
   "source": [
    "We can access structures from datasets with `get_structures`"
   ]
  },
  {
   "cell_type": "code",
   "execution_count": 5,
   "metadata": {},
   "outputs": [],
   "source": [
    "structures = ds.get_structures(range(10)) "
   ]
  },
  {
   "cell_type": "markdown",
   "metadata": {},
   "source": [
    "This will give us a generator."
   ]
  },
  {
   "cell_type": "code",
   "execution_count": 6,
   "metadata": {},
   "outputs": [
    {
     "data": {
      "text/plain": [
       "generator"
      ]
     },
     "execution_count": 6,
     "metadata": {},
     "output_type": "execute_result"
    }
   ],
   "source": [
    "type(structures)"
   ]
  },
  {
   "cell_type": "markdown",
   "metadata": {},
   "source": [
    "We can instantiate a featurizer class and featurize a single structure"
   ]
  },
  {
   "cell_type": "code",
   "execution_count": 11,
   "metadata": {},
   "outputs": [
    {
     "name": "stderr",
     "output_type": "stream",
     "text": [
      "2022-08-02 11:14:54.349 | WARNING  | element_coder.data.coding_data:get_coding_dict:85 - This coding is not unique for certain elements. This will cause problems when decoding.\n",
      "2022-08-02 11:14:54.350 | WARNING  | element_coder.data.coding_data:get_coding_dict:80 - No matching key found for mod_petti. Falling back to closest match mod_petti.\n",
      "2022-08-02 11:14:54.351 | WARNING  | element_coder.data.coding_data:get_coding_dict:85 - This coding is not unique for certain elements. This will cause problems when decoding.\n",
      "2022-08-02 11:14:54.603 | DEBUG    | mofdscribe.featurizers.chemistry.racs:_compute_racs:38 - No start indices for linker_functional\n",
      "2022-08-02 11:14:54.603 | DEBUG    | mofdscribe.featurizers.chemistry.racs:_compute_racs:38 - No start indices for linker_functional\n",
      "2022-08-02 11:14:54.604 | DEBUG    | mofdscribe.featurizers.chemistry.racs:_compute_racs:38 - No start indices for linker_functional\n"
     ]
    }
   ],
   "source": [
    "racs_featurizer = RACS()\n",
    "racs = racs_featurizer.featurize(next(structures))"
   ]
  },
  {
   "cell_type": "code",
   "execution_count": 14,
   "metadata": {},
   "outputs": [
    {
     "data": {
      "text/html": [
       "<div>\n",
       "<style scoped>\n",
       "    .dataframe tbody tr th:only-of-type {\n",
       "        vertical-align: middle;\n",
       "    }\n",
       "\n",
       "    .dataframe tbody tr th {\n",
       "        vertical-align: top;\n",
       "    }\n",
       "\n",
       "    .dataframe thead th {\n",
       "        text-align: right;\n",
       "    }\n",
       "</style>\n",
       "<table border=\"1\" class=\"dataframe\">\n",
       "  <thead>\n",
       "    <tr style=\"text-align: right;\">\n",
       "      <th></th>\n",
       "      <th>racs_bb-linker_all_prop-I_scope-1_propagg-diff_corragg-avg_bbagg-avg</th>\n",
       "      <th>racs_bb-linker_all_prop-I_scope-1_propagg-diff_corragg-avg_bbagg-sum</th>\n",
       "      <th>racs_bb-linker_all_prop-I_scope-1_propagg-diff_corragg-sum_bbagg-avg</th>\n",
       "      <th>racs_bb-linker_all_prop-I_scope-1_propagg-diff_corragg-sum_bbagg-sum</th>\n",
       "      <th>racs_bb-linker_all_prop-I_scope-1_propagg-product_corragg-avg_bbagg-avg</th>\n",
       "      <th>racs_bb-linker_all_prop-I_scope-1_propagg-product_corragg-avg_bbagg-sum</th>\n",
       "      <th>racs_bb-linker_all_prop-I_scope-1_propagg-product_corragg-sum_bbagg-avg</th>\n",
       "      <th>racs_bb-linker_all_prop-I_scope-1_propagg-product_corragg-sum_bbagg-sum</th>\n",
       "      <th>racs_bb-linker_all_prop-I_scope-2_propagg-diff_corragg-avg_bbagg-avg</th>\n",
       "      <th>racs_bb-linker_all_prop-I_scope-2_propagg-diff_corragg-avg_bbagg-sum</th>\n",
       "      <th>...</th>\n",
       "      <th>racs_bb-nodes_prop-mod_pettifor_scope-2_propagg-product_corragg-sum_bbagg-avg</th>\n",
       "      <th>racs_bb-nodes_prop-mod_pettifor_scope-2_propagg-product_corragg-sum_bbagg-sum</th>\n",
       "      <th>racs_bb-nodes_prop-mod_pettifor_scope-3_propagg-diff_corragg-avg_bbagg-avg</th>\n",
       "      <th>racs_bb-nodes_prop-mod_pettifor_scope-3_propagg-diff_corragg-avg_bbagg-sum</th>\n",
       "      <th>racs_bb-nodes_prop-mod_pettifor_scope-3_propagg-diff_corragg-sum_bbagg-avg</th>\n",
       "      <th>racs_bb-nodes_prop-mod_pettifor_scope-3_propagg-diff_corragg-sum_bbagg-sum</th>\n",
       "      <th>racs_bb-nodes_prop-mod_pettifor_scope-3_propagg-product_corragg-avg_bbagg-avg</th>\n",
       "      <th>racs_bb-nodes_prop-mod_pettifor_scope-3_propagg-product_corragg-avg_bbagg-sum</th>\n",
       "      <th>racs_bb-nodes_prop-mod_pettifor_scope-3_propagg-product_corragg-sum_bbagg-avg</th>\n",
       "      <th>racs_bb-nodes_prop-mod_pettifor_scope-3_propagg-product_corragg-sum_bbagg-sum</th>\n",
       "    </tr>\n",
       "  </thead>\n",
       "  <tbody>\n",
       "    <tr>\n",
       "      <th>0</th>\n",
       "      <td>0.0</td>\n",
       "      <td>0.0</td>\n",
       "      <td>0.0</td>\n",
       "      <td>0.0</td>\n",
       "      <td>1.0</td>\n",
       "      <td>4.0</td>\n",
       "      <td>29.0</td>\n",
       "      <td>116.0</td>\n",
       "      <td>0.0</td>\n",
       "      <td>0.0</td>\n",
       "      <td>...</td>\n",
       "      <td>47472.0</td>\n",
       "      <td>189888.0</td>\n",
       "      <td>23.636364</td>\n",
       "      <td>94.545455</td>\n",
       "      <td>520.0</td>\n",
       "      <td>2080.0</td>\n",
       "      <td>6391.909091</td>\n",
       "      <td>25567.636364</td>\n",
       "      <td>140622.0</td>\n",
       "      <td>562488.0</td>\n",
       "    </tr>\n",
       "  </tbody>\n",
       "</table>\n",
       "<p>1 rows × 480 columns</p>\n",
       "</div>"
      ],
      "text/plain": [
       "   racs_bb-linker_all_prop-I_scope-1_propagg-diff_corragg-avg_bbagg-avg  \\\n",
       "0                                                0.0                      \n",
       "\n",
       "   racs_bb-linker_all_prop-I_scope-1_propagg-diff_corragg-avg_bbagg-sum  \\\n",
       "0                                                0.0                      \n",
       "\n",
       "   racs_bb-linker_all_prop-I_scope-1_propagg-diff_corragg-sum_bbagg-avg  \\\n",
       "0                                                0.0                      \n",
       "\n",
       "   racs_bb-linker_all_prop-I_scope-1_propagg-diff_corragg-sum_bbagg-sum  \\\n",
       "0                                                0.0                      \n",
       "\n",
       "   racs_bb-linker_all_prop-I_scope-1_propagg-product_corragg-avg_bbagg-avg  \\\n",
       "0                                                1.0                         \n",
       "\n",
       "   racs_bb-linker_all_prop-I_scope-1_propagg-product_corragg-avg_bbagg-sum  \\\n",
       "0                                                4.0                         \n",
       "\n",
       "   racs_bb-linker_all_prop-I_scope-1_propagg-product_corragg-sum_bbagg-avg  \\\n",
       "0                                               29.0                         \n",
       "\n",
       "   racs_bb-linker_all_prop-I_scope-1_propagg-product_corragg-sum_bbagg-sum  \\\n",
       "0                                              116.0                         \n",
       "\n",
       "   racs_bb-linker_all_prop-I_scope-2_propagg-diff_corragg-avg_bbagg-avg  \\\n",
       "0                                                0.0                      \n",
       "\n",
       "   racs_bb-linker_all_prop-I_scope-2_propagg-diff_corragg-avg_bbagg-sum  ...  \\\n",
       "0                                                0.0                     ...   \n",
       "\n",
       "   racs_bb-nodes_prop-mod_pettifor_scope-2_propagg-product_corragg-sum_bbagg-avg  \\\n",
       "0                                            47472.0                               \n",
       "\n",
       "   racs_bb-nodes_prop-mod_pettifor_scope-2_propagg-product_corragg-sum_bbagg-sum  \\\n",
       "0                                           189888.0                               \n",
       "\n",
       "   racs_bb-nodes_prop-mod_pettifor_scope-3_propagg-diff_corragg-avg_bbagg-avg  \\\n",
       "0                                          23.636364                            \n",
       "\n",
       "   racs_bb-nodes_prop-mod_pettifor_scope-3_propagg-diff_corragg-avg_bbagg-sum  \\\n",
       "0                                          94.545455                            \n",
       "\n",
       "   racs_bb-nodes_prop-mod_pettifor_scope-3_propagg-diff_corragg-sum_bbagg-avg  \\\n",
       "0                                              520.0                            \n",
       "\n",
       "   racs_bb-nodes_prop-mod_pettifor_scope-3_propagg-diff_corragg-sum_bbagg-sum  \\\n",
       "0                                             2080.0                            \n",
       "\n",
       "   racs_bb-nodes_prop-mod_pettifor_scope-3_propagg-product_corragg-avg_bbagg-avg  \\\n",
       "0                                        6391.909091                               \n",
       "\n",
       "   racs_bb-nodes_prop-mod_pettifor_scope-3_propagg-product_corragg-avg_bbagg-sum  \\\n",
       "0                                       25567.636364                               \n",
       "\n",
       "   racs_bb-nodes_prop-mod_pettifor_scope-3_propagg-product_corragg-sum_bbagg-avg  \\\n",
       "0                                           140622.0                               \n",
       "\n",
       "   racs_bb-nodes_prop-mod_pettifor_scope-3_propagg-product_corragg-sum_bbagg-sum  \n",
       "0                                           562488.0                              \n",
       "\n",
       "[1 rows x 480 columns]"
      ]
     },
     "execution_count": 14,
     "metadata": {},
     "output_type": "execute_result"
    }
   ],
   "source": [
    "pd.DataFrame([dict(zip(racs_featurizer.feature_labels(), racs))])"
   ]
  },
  {
   "cell_type": "markdown",
   "metadata": {},
   "source": [
    "However, you can also combine multiple featurizers into a single featurizer."
   ]
  },
  {
   "cell_type": "code",
   "execution_count": 16,
   "metadata": {},
   "outputs": [
    {
     "name": "stderr",
     "output_type": "stream",
     "text": [
      "2022-08-02 11:17:08.861 | DEBUG    | mofdscribe.featurizers.chemistry.racs:_compute_racs:38 - No start indices for linker_functional\n",
      "2022-08-02 11:17:08.861 | DEBUG    | mofdscribe.featurizers.chemistry.racs:_compute_racs:38 - No start indices for linker_functional\n",
      "2022-08-02 11:17:08.862 | DEBUG    | mofdscribe.featurizers.chemistry.racs:_compute_racs:38 - No start indices for linker_functional\n",
      "2022-08-02 11:17:12.646 | WARNING  | element_coder.data.coding_data:get_coding_dict:85 - This coding is not unique for certain elements. This will cause problems when decoding.\n"
     ]
    },
    {
     "data": {
      "text/html": [
       "<div>\n",
       "<style scoped>\n",
       "    .dataframe tbody tr th:only-of-type {\n",
       "        vertical-align: middle;\n",
       "    }\n",
       "\n",
       "    .dataframe tbody tr th {\n",
       "        vertical-align: top;\n",
       "    }\n",
       "\n",
       "    .dataframe thead th {\n",
       "        text-align: right;\n",
       "    }\n",
       "</style>\n",
       "<table border=\"1\" class=\"dataframe\">\n",
       "  <thead>\n",
       "    <tr style=\"text-align: right;\">\n",
       "      <th></th>\n",
       "      <th>racs_bb-linker_all_prop-I_scope-1_propagg-diff_corragg-avg_bbagg-avg</th>\n",
       "      <th>racs_bb-linker_all_prop-I_scope-1_propagg-diff_corragg-avg_bbagg-sum</th>\n",
       "      <th>racs_bb-linker_all_prop-I_scope-1_propagg-diff_corragg-sum_bbagg-avg</th>\n",
       "      <th>racs_bb-linker_all_prop-I_scope-1_propagg-diff_corragg-sum_bbagg-sum</th>\n",
       "      <th>racs_bb-linker_all_prop-I_scope-1_propagg-product_corragg-avg_bbagg-avg</th>\n",
       "      <th>racs_bb-linker_all_prop-I_scope-1_propagg-product_corragg-avg_bbagg-sum</th>\n",
       "      <th>racs_bb-linker_all_prop-I_scope-1_propagg-product_corragg-sum_bbagg-avg</th>\n",
       "      <th>racs_bb-linker_all_prop-I_scope-1_propagg-product_corragg-sum_bbagg-sum</th>\n",
       "      <th>racs_bb-linker_all_prop-I_scope-2_propagg-diff_corragg-avg_bbagg-avg</th>\n",
       "      <th>racs_bb-linker_all_prop-I_scope-2_propagg-diff_corragg-avg_bbagg-sum</th>\n",
       "      <th>...</th>\n",
       "      <th>phhist_all_dim2_nx9_ny0_persistence</th>\n",
       "      <th>phhist_all_dim2_nx9_ny1_persistence</th>\n",
       "      <th>phhist_all_dim2_nx9_ny2_persistence</th>\n",
       "      <th>phhist_all_dim2_nx9_ny3_persistence</th>\n",
       "      <th>phhist_all_dim2_nx9_ny4_persistence</th>\n",
       "      <th>phhist_all_dim2_nx9_ny5_persistence</th>\n",
       "      <th>phhist_all_dim2_nx9_ny6_persistence</th>\n",
       "      <th>phhist_all_dim2_nx9_ny7_persistence</th>\n",
       "      <th>phhist_all_dim2_nx9_ny8_persistence</th>\n",
       "      <th>phhist_all_dim2_nx9_ny9_persistence</th>\n",
       "    </tr>\n",
       "  </thead>\n",
       "  <tbody>\n",
       "    <tr>\n",
       "      <th>0</th>\n",
       "      <td>0.0</td>\n",
       "      <td>0.0</td>\n",
       "      <td>0.0</td>\n",
       "      <td>0.0</td>\n",
       "      <td>1.0</td>\n",
       "      <td>104.0</td>\n",
       "      <td>13.615385</td>\n",
       "      <td>1416.0</td>\n",
       "      <td>0.0</td>\n",
       "      <td>0.0</td>\n",
       "      <td>...</td>\n",
       "      <td>0.980811</td>\n",
       "      <td>0.0</td>\n",
       "      <td>0.0</td>\n",
       "      <td>0.0</td>\n",
       "      <td>0.0</td>\n",
       "      <td>0.0</td>\n",
       "      <td>0.0</td>\n",
       "      <td>0.0</td>\n",
       "      <td>0.0</td>\n",
       "      <td>0.326937</td>\n",
       "    </tr>\n",
       "  </tbody>\n",
       "</table>\n",
       "<p>1 rows × 2856 columns</p>\n",
       "</div>"
      ],
      "text/plain": [
       "   racs_bb-linker_all_prop-I_scope-1_propagg-diff_corragg-avg_bbagg-avg  \\\n",
       "0                                                0.0                      \n",
       "\n",
       "   racs_bb-linker_all_prop-I_scope-1_propagg-diff_corragg-avg_bbagg-sum  \\\n",
       "0                                                0.0                      \n",
       "\n",
       "   racs_bb-linker_all_prop-I_scope-1_propagg-diff_corragg-sum_bbagg-avg  \\\n",
       "0                                                0.0                      \n",
       "\n",
       "   racs_bb-linker_all_prop-I_scope-1_propagg-diff_corragg-sum_bbagg-sum  \\\n",
       "0                                                0.0                      \n",
       "\n",
       "   racs_bb-linker_all_prop-I_scope-1_propagg-product_corragg-avg_bbagg-avg  \\\n",
       "0                                                1.0                         \n",
       "\n",
       "   racs_bb-linker_all_prop-I_scope-1_propagg-product_corragg-avg_bbagg-sum  \\\n",
       "0                                              104.0                         \n",
       "\n",
       "   racs_bb-linker_all_prop-I_scope-1_propagg-product_corragg-sum_bbagg-avg  \\\n",
       "0                                          13.615385                         \n",
       "\n",
       "   racs_bb-linker_all_prop-I_scope-1_propagg-product_corragg-sum_bbagg-sum  \\\n",
       "0                                             1416.0                         \n",
       "\n",
       "   racs_bb-linker_all_prop-I_scope-2_propagg-diff_corragg-avg_bbagg-avg  \\\n",
       "0                                                0.0                      \n",
       "\n",
       "   racs_bb-linker_all_prop-I_scope-2_propagg-diff_corragg-avg_bbagg-sum  ...  \\\n",
       "0                                                0.0                     ...   \n",
       "\n",
       "   phhist_all_dim2_nx9_ny0_persistence  phhist_all_dim2_nx9_ny1_persistence  \\\n",
       "0                             0.980811                                  0.0   \n",
       "\n",
       "   phhist_all_dim2_nx9_ny2_persistence  phhist_all_dim2_nx9_ny3_persistence  \\\n",
       "0                                  0.0                                  0.0   \n",
       "\n",
       "   phhist_all_dim2_nx9_ny4_persistence  phhist_all_dim2_nx9_ny5_persistence  \\\n",
       "0                                  0.0                                  0.0   \n",
       "\n",
       "   phhist_all_dim2_nx9_ny6_persistence  phhist_all_dim2_nx9_ny7_persistence  \\\n",
       "0                                  0.0                                  0.0   \n",
       "\n",
       "   phhist_all_dim2_nx9_ny8_persistence  phhist_all_dim2_nx9_ny9_persistence  \n",
       "0                                  0.0                             0.326937  \n",
       "\n",
       "[1 rows x 2856 columns]"
      ]
     },
     "execution_count": 16,
     "metadata": {},
     "output_type": "execute_result"
    }
   ],
   "source": [
    "featurizer = MultipleFeaturizer([RACS(), APRDF(), AMD(), PHStats(), PHHist()])\n",
    "features = featurizer.featurize(next(structures))\n",
    "pd.DataFrame([dict(zip(featurizer.feature_labels(), features))])"
   ]
  },
  {
   "cell_type": "markdown",
   "metadata": {},
   "source": [
    "But we can also run it over multiple structures with one call "
   ]
  },
  {
   "cell_type": "code",
   "execution_count": 21,
   "metadata": {},
   "outputs": [
    {
     "data": {
      "application/vnd.jupyter.widget-view+json": {
       "model_id": "dd95e1f8d3d24b318ef4a4eee8d068a0",
       "version_major": 2,
       "version_minor": 0
      },
      "text/plain": [
       "MultipleFeaturizer:   0%|          | 0/10 [00:00<?, ?it/s]"
      ]
     },
     "metadata": {},
     "output_type": "display_data"
    },
    {
     "name": "stderr",
     "output_type": "stream",
     "text": [
      "UserWarning: resource_tracker: process died unexpectedly, relaunching.  Some resources might leak.\n"
     ]
    }
   ],
   "source": [
    "feats_all = featurizer.featurize_many(list(ds.get_structures(range(10))), ignore_errors=True)"
   ]
  },
  {
   "cell_type": "code",
   "execution_count": null,
   "metadata": {},
   "outputs": [],
   "source": []
  }
 ],
 "metadata": {
  "kernelspec": {
   "display_name": "Python 3.8.13 ('mofdscribe')",
   "language": "python",
   "name": "python3"
  },
  "language_info": {
   "codemirror_mode": {
    "name": "ipython",
    "version": 3
   },
   "file_extension": ".py",
   "mimetype": "text/x-python",
   "name": "python",
   "nbconvert_exporter": "python",
   "pygments_lexer": "ipython3",
   "version": "3.8.13"
  },
  "orig_nbformat": 4,
  "vscode": {
   "interpreter": {
    "hash": "3ffc06f754d7c80b59e39914e7792f1f92938dc6ca13a8ff96847f8f4d27fee3"
   }
  }
 },
 "nbformat": 4,
 "nbformat_minor": 2
}
