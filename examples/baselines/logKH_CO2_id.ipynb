{
 "cells": [
  {
   "cell_type": "markdown",
   "metadata": {},
   "source": [
    "# Running MOFBench baselines for the `logKH_CO2_id` task"
   ]
  },
  {
   "cell_type": "code",
   "execution_count": 1,
   "metadata": {},
   "outputs": [],
   "source": [
    "%load_ext autoreload\n",
    "%autoreload 2"
   ]
  },
  {
   "cell_type": "code",
   "execution_count": 2,
   "metadata": {},
   "outputs": [],
   "source": [
    "from mofdscribe.bench.dummy_models import DummyRegressor\n",
    "from mofdscribe.bench.df_model import DFModel\n",
    "from mofdscribe.bench.logkHCO2 import LogkHCO2IDBench\n",
    "from mofdscribe.datasets import CoREDataset\n",
    "from xgboost import XGBRegressor"
   ]
  },
  {
   "cell_type": "code",
   "execution_count": 2,
   "metadata": {},
   "outputs": [
    {
     "name": "stderr",
     "output_type": "stream",
     "text": [
      "2022-08-08 18:47:50.490 | DEBUG    | mofdscribe.datasets.core_dataset:__init__:127 - Dropped 3227 duplicate basenames. New length 2166\n",
      "2022-08-08 18:47:50.519 | DEBUG    | mofdscribe.datasets.core_dataset:__init__:133 - Dropped 62 duplicate graphs. New length 2104\n",
      "2022-08-08 18:47:54.044 | DEBUG    | mofdscribe.datasets.core_dataset:__init__:127 - Dropped 3227 duplicate basenames. New length 2166\n",
      "2022-08-08 18:47:54.131 | DEBUG    | mofdscribe.datasets.core_dataset:__init__:133 - Dropped 62 duplicate graphs. New length 2104\n",
      "2022-08-08 18:47:54.142 | DEBUG    | mofdscribe.splitters.splitters:__init__:116 - Splitter settings | shuffle True, random state None, sample frac 1.0, q (0, 0.25, 0.5, 0.75, 1)\n"
     ]
    }
   ],
   "source": [
    "dummy_mean_bench = LogkHCO2IDBench(DummyRegressor(),\n",
    "    name = 'dummy-mean-model',\n",
    "    features='None', \n",
    "    implementation='mofdscribe',\n",
    "    model_type='dummy'\n",
    ")"
   ]
  },
  {
   "cell_type": "code",
   "execution_count": 3,
   "metadata": {},
   "outputs": [
    {
     "name": "stderr",
     "output_type": "stream",
     "text": [
      "2022-08-08 18:48:02.584 | DEBUG    | mofdscribe.bench.mofbench:_score:282 - K-fold round 0, 1686 train points, 418 test points\n",
      "2022-08-08 18:48:02.586 | DEBUG    | mofdscribe.bench.mofbench:_score:282 - K-fold round 1, 1671 train points, 433 test points\n",
      "2022-08-08 18:48:02.589 | DEBUG    | mofdscribe.bench.mofbench:_score:282 - K-fold round 2, 1687 train points, 417 test points\n",
      "2022-08-08 18:48:02.591 | DEBUG    | mofdscribe.bench.mofbench:_score:282 - K-fold round 3, 1697 train points, 407 test points\n",
      "2022-08-08 18:48:02.593 | DEBUG    | mofdscribe.bench.mofbench:_score:282 - K-fold round 4, 1675 train points, 429 test points\n"
     ]
    }
   ],
   "source": [
    "dummy_mean_bench_results = dummy_mean_bench.bench()"
   ]
  },
  {
   "cell_type": "code",
   "execution_count": 4,
   "metadata": {},
   "outputs": [],
   "source": [
    "dummy_mean_bench_results.save_json('../../bench_results/logKH_CO2_id')\n",
    "dummy_mean_bench_results.save_rst('../../bench_results/logKH_CO2_id')"
   ]
  },
  {
   "cell_type": "code",
   "execution_count": 5,
   "metadata": {},
   "outputs": [
    {
     "name": "stderr",
     "output_type": "stream",
     "text": [
      "2022-08-08 18:53:03.941 | DEBUG    | mofdscribe.datasets.core_dataset:__init__:127 - Dropped 3227 duplicate basenames. New length 2166\n",
      "2022-08-08 18:53:03.969 | DEBUG    | mofdscribe.datasets.core_dataset:__init__:133 - Dropped 62 duplicate graphs. New length 2104\n",
      "2022-08-08 18:53:07.505 | DEBUG    | mofdscribe.datasets.core_dataset:__init__:127 - Dropped 3227 duplicate basenames. New length 2166\n",
      "2022-08-08 18:53:07.610 | DEBUG    | mofdscribe.datasets.core_dataset:__init__:133 - Dropped 62 duplicate graphs. New length 2104\n",
      "2022-08-08 18:53:07.622 | DEBUG    | mofdscribe.splitters.splitters:__init__:116 - Splitter settings | shuffle True, random state None, sample frac 1.0, q (0, 0.25, 0.5, 0.75, 1)\n"
     ]
    }
   ],
   "source": [
    "dummy_median_bench = LogkHCO2IDBench(DummyRegressor(),\n",
    "    name = 'dummy-median-model',\n",
    "    features='None',\n",
    "    implementation='mofdscribe',\n",
    "    model_type='dummy'\n",
    ")"
   ]
  },
  {
   "cell_type": "code",
   "execution_count": 6,
   "metadata": {},
   "outputs": [
    {
     "name": "stderr",
     "output_type": "stream",
     "text": [
      "2022-08-08 18:53:18.043 | DEBUG    | mofdscribe.bench.mofbench:_score:282 - K-fold round 0, 1684 train points, 420 test points\n",
      "2022-08-08 18:53:18.045 | DEBUG    | mofdscribe.bench.mofbench:_score:282 - K-fold round 1, 1691 train points, 413 test points\n",
      "2022-08-08 18:53:18.048 | DEBUG    | mofdscribe.bench.mofbench:_score:282 - K-fold round 2, 1688 train points, 416 test points\n",
      "2022-08-08 18:53:18.049 | DEBUG    | mofdscribe.bench.mofbench:_score:282 - K-fold round 3, 1684 train points, 420 test points\n",
      "2022-08-08 18:53:18.052 | DEBUG    | mofdscribe.bench.mofbench:_score:282 - K-fold round 4, 1669 train points, 435 test points\n"
     ]
    }
   ],
   "source": [
    "dummy_median_bench_results = dummy_median_bench.bench()"
   ]
  },
  {
   "cell_type": "code",
   "execution_count": 7,
   "metadata": {},
   "outputs": [],
   "source": [
    "dummy_median_bench_results.save_json('../../bench_results/logKH_CO2_id')\n",
    "dummy_median_bench_results.save_rst('../../bench_results/logKH_CO2_id')"
   ]
  },
  {
   "cell_type": "markdown",
   "metadata": {},
   "source": [
    "Now, let's use a slightly more fancy model"
   ]
  },
  {
   "cell_type": "code",
   "execution_count": 18,
   "metadata": {},
   "outputs": [
    {
     "name": "stderr",
     "output_type": "stream",
     "text": [
      "2022-08-08 19:39:29.272 | DEBUG    | mofdscribe.datasets.core_dataset:__init__:127 - Dropped 3227 duplicate basenames. New length 2166\n",
      "2022-08-08 19:39:29.302 | DEBUG    | mofdscribe.datasets.core_dataset:__init__:133 - Dropped 62 duplicate graphs. New length 2104\n",
      "2022-08-08 19:39:33.091 | DEBUG    | mofdscribe.datasets.core_dataset:__init__:127 - Dropped 3227 duplicate basenames. New length 2166\n",
      "2022-08-08 19:39:33.119 | DEBUG    | mofdscribe.datasets.core_dataset:__init__:133 - Dropped 62 duplicate graphs. New length 2104\n",
      "2022-08-08 19:39:33.130 | DEBUG    | mofdscribe.splitters.splitters:__init__:116 - Splitter settings | shuffle True, random state None, sample frac 1.0, q (0, 0.25, 0.5, 0.75, 1)\n"
     ]
    }
   ],
   "source": [
    "xgboost_default_baseline = LogkHCO2IDBench(DFModel(XGBRegressor()),\n",
    "    name=\"default-xgboost-default-feat\", \n",
    "    features='default featurset of dataset',\n",
    "    implementation='mofdscribe',\n",
    "    patch_in_ds=True\n",
    ")"
   ]
  },
  {
   "cell_type": "code",
   "execution_count": 19,
   "metadata": {},
   "outputs": [
    {
     "name": "stderr",
     "output_type": "stream",
     "text": [
      "2022-08-08 19:39:33.522 | DEBUG    | mofdscribe.bench.mofbench:_score:282 - K-fold round 0, 1689 train points, 415 test points\n",
      "2022-08-08 19:39:33.523 | DEBUG    | mofdscribe.bench.df_model:fit:35 - Fitting model\n",
      "2022-08-08 19:39:33.540 | DEBUG    | mofdscribe.bench.df_model:fit:37 - (1689, 2387)\n",
      "2022-08-08 19:40:00.999 | DEBUG    | mofdscribe.bench.mofbench:_score:282 - K-fold round 1, 1684 train points, 420 test points\n",
      "2022-08-08 19:40:01.000 | DEBUG    | mofdscribe.bench.df_model:fit:35 - Fitting model\n",
      "2022-08-08 19:40:01.011 | DEBUG    | mofdscribe.bench.df_model:fit:37 - (1684, 2387)\n",
      "2022-08-08 19:40:10.982 | DEBUG    | mofdscribe.bench.mofbench:_score:282 - K-fold round 2, 1674 train points, 430 test points\n",
      "2022-08-08 19:40:10.983 | DEBUG    | mofdscribe.bench.df_model:fit:35 - Fitting model\n",
      "2022-08-08 19:40:10.995 | DEBUG    | mofdscribe.bench.df_model:fit:37 - (1674, 2387)\n",
      "2022-08-08 19:40:20.647 | DEBUG    | mofdscribe.bench.mofbench:_score:282 - K-fold round 3, 1687 train points, 417 test points\n",
      "2022-08-08 19:40:20.648 | DEBUG    | mofdscribe.bench.df_model:fit:35 - Fitting model\n",
      "2022-08-08 19:40:20.660 | DEBUG    | mofdscribe.bench.df_model:fit:37 - (1687, 2387)\n",
      "2022-08-08 19:40:30.269 | DEBUG    | mofdscribe.bench.mofbench:_score:282 - K-fold round 4, 1682 train points, 422 test points\n",
      "2022-08-08 19:40:30.270 | DEBUG    | mofdscribe.bench.df_model:fit:35 - Fitting model\n",
      "2022-08-08 19:40:30.281 | DEBUG    | mofdscribe.bench.df_model:fit:37 - (1682, 2387)\n"
     ]
    }
   ],
   "source": [
    "xgboost_default_baseline_results = xgboost_default_baseline.bench()"
   ]
  },
  {
   "cell_type": "code",
   "execution_count": 20,
   "metadata": {},
   "outputs": [],
   "source": [
    "xgboost_default_baseline_results.save_json('../../bench_results/logKH_CO2_id')\n",
    "xgboost_default_baseline_results.save_rst('../../bench_results/logKH_CO2_id')"
   ]
  },
  {
   "cell_type": "code",
   "execution_count": null,
   "metadata": {},
   "outputs": [],
   "source": []
  }
 ],
 "metadata": {
  "kernelspec": {
   "display_name": "Python 3.8.13 ('mofdscribe')",
   "language": "python",
   "name": "python3"
  },
  "language_info": {
   "codemirror_mode": {
    "name": "ipython",
    "version": 3
   },
   "file_extension": ".py",
   "mimetype": "text/x-python",
   "name": "python",
   "nbconvert_exporter": "python",
   "pygments_lexer": "ipython3",
   "version": "3.8.13"
  },
  "orig_nbformat": 4,
  "vscode": {
   "interpreter": {
    "hash": "3ffc06f754d7c80b59e39914e7792f1f92938dc6ca13a8ff96847f8f4d27fee3"
   }
  }
 },
 "nbformat": 4,
 "nbformat_minor": 2
}
